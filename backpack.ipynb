{
 "cells": [
  {
   "cell_type": "code",
   "execution_count": 1,
   "id": "60e08277",
   "metadata": {
    "_cell_guid": "b1076dfc-b9ad-4769-8c92-a6c4dae69d19",
    "_uuid": "8f2839f25d086af736a60e9eeb907d3b93b6e0e5",
    "execution": {
     "iopub.execute_input": "2025-03-20T07:19:09.572949Z",
     "iopub.status.busy": "2025-03-20T07:19:09.572358Z",
     "iopub.status.idle": "2025-03-20T07:19:10.662996Z",
     "shell.execute_reply": "2025-03-20T07:19:10.661427Z"
    },
    "papermill": {
     "duration": 1.102592,
     "end_time": "2025-03-20T07:19:10.664917",
     "exception": false,
     "start_time": "2025-03-20T07:19:09.562325",
     "status": "completed"
    },
    "tags": []
   },
   "outputs": [
    {
     "name": "stdout",
     "output_type": "stream",
     "text": [
      "/kaggle/input/playground-series-s5e2/sample_submission.csv\n",
      "/kaggle/input/playground-series-s5e2/train.csv\n",
      "/kaggle/input/playground-series-s5e2/test.csv\n",
      "/kaggle/input/playground-series-s5e2/training_extra.csv\n"
     ]
    }
   ],
   "source": [
    "# This Python 3 environment comes with many helpful analytics libraries installed\n",
    "# It is defined by the kaggle/python Docker image: https://github.com/kaggle/docker-python\n",
    "# For example, here's several helpful packages to load\n",
    "\n",
    "import numpy as np # linear algebra\n",
    "import pandas as pd # data processing, CSV file I/O (e.g. pd.read_csv)\n",
    "\n",
    "# Input data files are available in the read-only \"../input/\" directory\n",
    "# For example, running this (by clicking run or pressing Shift+Enter) will list all files under the input directory\n",
    "\n",
    "import os\n",
    "for dirname, _, filenames in os.walk('/kaggle/input'):\n",
    "    for filename in filenames:\n",
    "        print(os.path.join(dirname, filename))\n",
    "\n",
    "# You can write up to 20GB to the current directory (/kaggle/working/) that gets preserved as output when you create a version using \"Save & Run All\" \n",
    "# You can also write temporary files to /kaggle/temp/, but they won't be saved outside of the current session"
   ]
  },
  {
   "cell_type": "code",
   "execution_count": 2,
   "id": "8b031b1f",
   "metadata": {
    "execution": {
     "iopub.execute_input": "2025-03-20T07:19:10.682337Z",
     "iopub.status.busy": "2025-03-20T07:19:10.681706Z",
     "iopub.status.idle": "2025-03-20T07:19:10.686610Z",
     "shell.execute_reply": "2025-03-20T07:19:10.685378Z"
    },
    "papermill": {
     "duration": 0.015539,
     "end_time": "2025-03-20T07:19:10.688414",
     "exception": false,
     "start_time": "2025-03-20T07:19:10.672875",
     "status": "completed"
    },
    "tags": []
   },
   "outputs": [],
   "source": [
    "train_file = \"/kaggle/input/playground-series-s5e2/train.csv\"\n",
    "test_file = \"/kaggle/input/playground-series-s5e2/test.csv\"\n",
    "train_extra_file = \"/kaggle/input/playground-series-s5e2/training_extra.csv\""
   ]
  },
  {
   "cell_type": "code",
   "execution_count": 3,
   "id": "3fd33b84",
   "metadata": {
    "execution": {
     "iopub.execute_input": "2025-03-20T07:19:10.705507Z",
     "iopub.status.busy": "2025-03-20T07:19:10.705010Z",
     "iopub.status.idle": "2025-03-20T07:19:21.822990Z",
     "shell.execute_reply": "2025-03-20T07:19:21.821794Z"
    },
    "papermill": {
     "duration": 11.12897,
     "end_time": "2025-03-20T07:19:21.825242",
     "exception": false,
     "start_time": "2025-03-20T07:19:10.696272",
     "status": "completed"
    },
    "tags": []
   },
   "outputs": [],
   "source": [
    "train_data = pd.read_csv(train_file)\n",
    "test_data = pd.read_csv(test_file)\n",
    "train_extra_data = pd.read_csv(train_extra_file)"
   ]
  },
  {
   "cell_type": "code",
   "execution_count": 4,
   "id": "104e19d9",
   "metadata": {
    "execution": {
     "iopub.execute_input": "2025-03-20T07:19:21.842105Z",
     "iopub.status.busy": "2025-03-20T07:19:21.841679Z",
     "iopub.status.idle": "2025-03-20T07:19:21.875317Z",
     "shell.execute_reply": "2025-03-20T07:19:21.874006Z"
    },
    "papermill": {
     "duration": 0.044266,
     "end_time": "2025-03-20T07:19:21.877335",
     "exception": false,
     "start_time": "2025-03-20T07:19:21.833069",
     "status": "completed"
    },
    "tags": []
   },
   "outputs": [
    {
     "data": {
      "text/html": [
       "<div>\n",
       "<style scoped>\n",
       "    .dataframe tbody tr th:only-of-type {\n",
       "        vertical-align: middle;\n",
       "    }\n",
       "\n",
       "    .dataframe tbody tr th {\n",
       "        vertical-align: top;\n",
       "    }\n",
       "\n",
       "    .dataframe thead th {\n",
       "        text-align: right;\n",
       "    }\n",
       "</style>\n",
       "<table border=\"1\" class=\"dataframe\">\n",
       "  <thead>\n",
       "    <tr style=\"text-align: right;\">\n",
       "      <th></th>\n",
       "      <th>id</th>\n",
       "      <th>Brand</th>\n",
       "      <th>Material</th>\n",
       "      <th>Size</th>\n",
       "      <th>Compartments</th>\n",
       "      <th>Laptop Compartment</th>\n",
       "      <th>Waterproof</th>\n",
       "      <th>Style</th>\n",
       "      <th>Color</th>\n",
       "      <th>Weight Capacity (kg)</th>\n",
       "      <th>Price</th>\n",
       "    </tr>\n",
       "  </thead>\n",
       "  <tbody>\n",
       "    <tr>\n",
       "      <th>0</th>\n",
       "      <td>0</td>\n",
       "      <td>Jansport</td>\n",
       "      <td>Leather</td>\n",
       "      <td>Medium</td>\n",
       "      <td>7.0</td>\n",
       "      <td>Yes</td>\n",
       "      <td>No</td>\n",
       "      <td>Tote</td>\n",
       "      <td>Black</td>\n",
       "      <td>11.611723</td>\n",
       "      <td>112.15875</td>\n",
       "    </tr>\n",
       "    <tr>\n",
       "      <th>1</th>\n",
       "      <td>1</td>\n",
       "      <td>Jansport</td>\n",
       "      <td>Canvas</td>\n",
       "      <td>Small</td>\n",
       "      <td>10.0</td>\n",
       "      <td>Yes</td>\n",
       "      <td>Yes</td>\n",
       "      <td>Messenger</td>\n",
       "      <td>Green</td>\n",
       "      <td>27.078537</td>\n",
       "      <td>68.88056</td>\n",
       "    </tr>\n",
       "    <tr>\n",
       "      <th>2</th>\n",
       "      <td>2</td>\n",
       "      <td>Under Armour</td>\n",
       "      <td>Leather</td>\n",
       "      <td>Small</td>\n",
       "      <td>2.0</td>\n",
       "      <td>Yes</td>\n",
       "      <td>No</td>\n",
       "      <td>Messenger</td>\n",
       "      <td>Red</td>\n",
       "      <td>16.643760</td>\n",
       "      <td>39.17320</td>\n",
       "    </tr>\n",
       "    <tr>\n",
       "      <th>3</th>\n",
       "      <td>3</td>\n",
       "      <td>Nike</td>\n",
       "      <td>Nylon</td>\n",
       "      <td>Small</td>\n",
       "      <td>8.0</td>\n",
       "      <td>Yes</td>\n",
       "      <td>No</td>\n",
       "      <td>Messenger</td>\n",
       "      <td>Green</td>\n",
       "      <td>12.937220</td>\n",
       "      <td>80.60793</td>\n",
       "    </tr>\n",
       "    <tr>\n",
       "      <th>4</th>\n",
       "      <td>4</td>\n",
       "      <td>Adidas</td>\n",
       "      <td>Canvas</td>\n",
       "      <td>Medium</td>\n",
       "      <td>1.0</td>\n",
       "      <td>Yes</td>\n",
       "      <td>Yes</td>\n",
       "      <td>Messenger</td>\n",
       "      <td>Green</td>\n",
       "      <td>17.749338</td>\n",
       "      <td>86.02312</td>\n",
       "    </tr>\n",
       "  </tbody>\n",
       "</table>\n",
       "</div>"
      ],
      "text/plain": [
       "   id         Brand Material    Size  Compartments Laptop Compartment  \\\n",
       "0   0      Jansport  Leather  Medium           7.0                Yes   \n",
       "1   1      Jansport   Canvas   Small          10.0                Yes   \n",
       "2   2  Under Armour  Leather   Small           2.0                Yes   \n",
       "3   3          Nike    Nylon   Small           8.0                Yes   \n",
       "4   4        Adidas   Canvas  Medium           1.0                Yes   \n",
       "\n",
       "  Waterproof      Style  Color  Weight Capacity (kg)      Price  \n",
       "0         No       Tote  Black             11.611723  112.15875  \n",
       "1        Yes  Messenger  Green             27.078537   68.88056  \n",
       "2         No  Messenger    Red             16.643760   39.17320  \n",
       "3         No  Messenger  Green             12.937220   80.60793  \n",
       "4        Yes  Messenger  Green             17.749338   86.02312  "
      ]
     },
     "execution_count": 4,
     "metadata": {},
     "output_type": "execute_result"
    }
   ],
   "source": [
    "train_data.head()"
   ]
  },
  {
   "cell_type": "code",
   "execution_count": 5,
   "id": "cdf845f5",
   "metadata": {
    "execution": {
     "iopub.execute_input": "2025-03-20T07:19:21.894947Z",
     "iopub.status.busy": "2025-03-20T07:19:21.894530Z",
     "iopub.status.idle": "2025-03-20T07:19:21.910316Z",
     "shell.execute_reply": "2025-03-20T07:19:21.909235Z"
    },
    "papermill": {
     "duration": 0.026667,
     "end_time": "2025-03-20T07:19:21.912193",
     "exception": false,
     "start_time": "2025-03-20T07:19:21.885526",
     "status": "completed"
    },
    "tags": []
   },
   "outputs": [
    {
     "data": {
      "text/html": [
       "<div>\n",
       "<style scoped>\n",
       "    .dataframe tbody tr th:only-of-type {\n",
       "        vertical-align: middle;\n",
       "    }\n",
       "\n",
       "    .dataframe tbody tr th {\n",
       "        vertical-align: top;\n",
       "    }\n",
       "\n",
       "    .dataframe thead th {\n",
       "        text-align: right;\n",
       "    }\n",
       "</style>\n",
       "<table border=\"1\" class=\"dataframe\">\n",
       "  <thead>\n",
       "    <tr style=\"text-align: right;\">\n",
       "      <th></th>\n",
       "      <th>id</th>\n",
       "      <th>Brand</th>\n",
       "      <th>Material</th>\n",
       "      <th>Size</th>\n",
       "      <th>Compartments</th>\n",
       "      <th>Laptop Compartment</th>\n",
       "      <th>Waterproof</th>\n",
       "      <th>Style</th>\n",
       "      <th>Color</th>\n",
       "      <th>Weight Capacity (kg)</th>\n",
       "      <th>Price</th>\n",
       "    </tr>\n",
       "  </thead>\n",
       "  <tbody>\n",
       "    <tr>\n",
       "      <th>0</th>\n",
       "      <td>500000</td>\n",
       "      <td>Under Armour</td>\n",
       "      <td>Canvas</td>\n",
       "      <td>Small</td>\n",
       "      <td>10.0</td>\n",
       "      <td>Yes</td>\n",
       "      <td>Yes</td>\n",
       "      <td>Tote</td>\n",
       "      <td>Blue</td>\n",
       "      <td>23.882052</td>\n",
       "      <td>114.11068</td>\n",
       "    </tr>\n",
       "    <tr>\n",
       "      <th>1</th>\n",
       "      <td>500001</td>\n",
       "      <td>Puma</td>\n",
       "      <td>Polyester</td>\n",
       "      <td>Small</td>\n",
       "      <td>4.0</td>\n",
       "      <td>No</td>\n",
       "      <td>Yes</td>\n",
       "      <td>Backpack</td>\n",
       "      <td>Green</td>\n",
       "      <td>11.869095</td>\n",
       "      <td>129.74972</td>\n",
       "    </tr>\n",
       "    <tr>\n",
       "      <th>2</th>\n",
       "      <td>500002</td>\n",
       "      <td>Jansport</td>\n",
       "      <td>Polyester</td>\n",
       "      <td>Small</td>\n",
       "      <td>8.0</td>\n",
       "      <td>Yes</td>\n",
       "      <td>Yes</td>\n",
       "      <td>Tote</td>\n",
       "      <td>Red</td>\n",
       "      <td>8.092302</td>\n",
       "      <td>21.37370</td>\n",
       "    </tr>\n",
       "    <tr>\n",
       "      <th>3</th>\n",
       "      <td>500003</td>\n",
       "      <td>Nike</td>\n",
       "      <td>Nylon</td>\n",
       "      <td>Large</td>\n",
       "      <td>7.0</td>\n",
       "      <td>No</td>\n",
       "      <td>No</td>\n",
       "      <td>Messenger</td>\n",
       "      <td>Pink</td>\n",
       "      <td>7.719581</td>\n",
       "      <td>48.09209</td>\n",
       "    </tr>\n",
       "    <tr>\n",
       "      <th>4</th>\n",
       "      <td>500004</td>\n",
       "      <td>Nike</td>\n",
       "      <td>Leather</td>\n",
       "      <td>Large</td>\n",
       "      <td>9.0</td>\n",
       "      <td>No</td>\n",
       "      <td>Yes</td>\n",
       "      <td>Tote</td>\n",
       "      <td>Green</td>\n",
       "      <td>22.741826</td>\n",
       "      <td>77.32461</td>\n",
       "    </tr>\n",
       "  </tbody>\n",
       "</table>\n",
       "</div>"
      ],
      "text/plain": [
       "       id         Brand   Material   Size  Compartments Laptop Compartment  \\\n",
       "0  500000  Under Armour     Canvas  Small          10.0                Yes   \n",
       "1  500001          Puma  Polyester  Small           4.0                 No   \n",
       "2  500002      Jansport  Polyester  Small           8.0                Yes   \n",
       "3  500003          Nike      Nylon  Large           7.0                 No   \n",
       "4  500004          Nike    Leather  Large           9.0                 No   \n",
       "\n",
       "  Waterproof      Style  Color  Weight Capacity (kg)      Price  \n",
       "0        Yes       Tote   Blue             23.882052  114.11068  \n",
       "1        Yes   Backpack  Green             11.869095  129.74972  \n",
       "2        Yes       Tote    Red              8.092302   21.37370  \n",
       "3         No  Messenger   Pink              7.719581   48.09209  \n",
       "4        Yes       Tote  Green             22.741826   77.32461  "
      ]
     },
     "execution_count": 5,
     "metadata": {},
     "output_type": "execute_result"
    }
   ],
   "source": [
    "train_extra_data.head()"
   ]
  },
  {
   "cell_type": "code",
   "execution_count": 6,
   "id": "0ca5bab2",
   "metadata": {
    "execution": {
     "iopub.execute_input": "2025-03-20T07:19:21.929533Z",
     "iopub.status.busy": "2025-03-20T07:19:21.929055Z",
     "iopub.status.idle": "2025-03-20T07:19:21.935392Z",
     "shell.execute_reply": "2025-03-20T07:19:21.934461Z"
    },
    "papermill": {
     "duration": 0.017115,
     "end_time": "2025-03-20T07:19:21.937413",
     "exception": false,
     "start_time": "2025-03-20T07:19:21.920298",
     "status": "completed"
    },
    "tags": []
   },
   "outputs": [
    {
     "data": {
      "text/plain": [
       "((300000, 11), (3694318, 11))"
      ]
     },
     "execution_count": 6,
     "metadata": {},
     "output_type": "execute_result"
    }
   ],
   "source": [
    "train_data.shape, train_extra_data.shape"
   ]
  },
  {
   "cell_type": "code",
   "execution_count": 7,
   "id": "7e18306c",
   "metadata": {
    "execution": {
     "iopub.execute_input": "2025-03-20T07:19:21.956185Z",
     "iopub.status.busy": "2025-03-20T07:19:21.955763Z",
     "iopub.status.idle": "2025-03-20T07:19:22.531374Z",
     "shell.execute_reply": "2025-03-20T07:19:22.530354Z"
    },
    "papermill": {
     "duration": 0.587412,
     "end_time": "2025-03-20T07:19:22.533605",
     "exception": false,
     "start_time": "2025-03-20T07:19:21.946193",
     "status": "completed"
    },
    "tags": []
   },
   "outputs": [],
   "source": [
    "data = pd.concat([train_data, train_extra_data], axis=0)"
   ]
  },
  {
   "cell_type": "code",
   "execution_count": 8,
   "id": "180c6c79",
   "metadata": {
    "execution": {
     "iopub.execute_input": "2025-03-20T07:19:22.551507Z",
     "iopub.status.busy": "2025-03-20T07:19:22.551026Z",
     "iopub.status.idle": "2025-03-20T07:19:22.557705Z",
     "shell.execute_reply": "2025-03-20T07:19:22.556507Z"
    },
    "papermill": {
     "duration": 0.017655,
     "end_time": "2025-03-20T07:19:22.559667",
     "exception": false,
     "start_time": "2025-03-20T07:19:22.542012",
     "status": "completed"
    },
    "tags": []
   },
   "outputs": [
    {
     "data": {
      "text/plain": [
       "Index(['id', 'Brand', 'Material', 'Size', 'Compartments', 'Laptop Compartment',\n",
       "       'Waterproof', 'Style', 'Color', 'Weight Capacity (kg)', 'Price'],\n",
       "      dtype='object')"
      ]
     },
     "execution_count": 8,
     "metadata": {},
     "output_type": "execute_result"
    }
   ],
   "source": [
    "data.columns"
   ]
  },
  {
   "cell_type": "code",
   "execution_count": 9,
   "id": "2fe0f8d3",
   "metadata": {
    "execution": {
     "iopub.execute_input": "2025-03-20T07:19:22.578520Z",
     "iopub.status.busy": "2025-03-20T07:19:22.578018Z",
     "iopub.status.idle": "2025-03-20T07:19:22.584280Z",
     "shell.execute_reply": "2025-03-20T07:19:22.583235Z"
    },
    "papermill": {
     "duration": 0.017962,
     "end_time": "2025-03-20T07:19:22.586054",
     "exception": false,
     "start_time": "2025-03-20T07:19:22.568092",
     "status": "completed"
    },
    "tags": []
   },
   "outputs": [
    {
     "data": {
      "text/plain": [
       "(3994318, 11)"
      ]
     },
     "execution_count": 9,
     "metadata": {},
     "output_type": "execute_result"
    }
   ],
   "source": [
    "data.shape"
   ]
  },
  {
   "cell_type": "code",
   "execution_count": 10,
   "id": "13a6075e",
   "metadata": {
    "execution": {
     "iopub.execute_input": "2025-03-20T07:19:22.604408Z",
     "iopub.status.busy": "2025-03-20T07:19:22.603916Z",
     "iopub.status.idle": "2025-03-20T07:19:22.638284Z",
     "shell.execute_reply": "2025-03-20T07:19:22.636897Z"
    },
    "papermill": {
     "duration": 0.045416,
     "end_time": "2025-03-20T07:19:22.640138",
     "exception": false,
     "start_time": "2025-03-20T07:19:22.594722",
     "status": "completed"
    },
    "tags": []
   },
   "outputs": [
    {
     "name": "stdout",
     "output_type": "stream",
     "text": [
      "<class 'pandas.core.frame.DataFrame'>\n",
      "Index: 3994318 entries, 0 to 3694317\n",
      "Data columns (total 11 columns):\n",
      " #   Column                Dtype  \n",
      "---  ------                -----  \n",
      " 0   id                    int64  \n",
      " 1   Brand                 object \n",
      " 2   Material              object \n",
      " 3   Size                  object \n",
      " 4   Compartments          float64\n",
      " 5   Laptop Compartment    object \n",
      " 6   Waterproof            object \n",
      " 7   Style                 object \n",
      " 8   Color                 object \n",
      " 9   Weight Capacity (kg)  float64\n",
      " 10  Price                 float64\n",
      "dtypes: float64(3), int64(1), object(7)\n",
      "memory usage: 365.7+ MB\n"
     ]
    }
   ],
   "source": [
    "data.info()"
   ]
  },
  {
   "cell_type": "code",
   "execution_count": 11,
   "id": "fea427b1",
   "metadata": {
    "execution": {
     "iopub.execute_input": "2025-03-20T07:19:22.658644Z",
     "iopub.status.busy": "2025-03-20T07:19:22.658115Z",
     "iopub.status.idle": "2025-03-20T07:19:24.119610Z",
     "shell.execute_reply": "2025-03-20T07:19:24.118472Z"
    },
    "papermill": {
     "duration": 1.472975,
     "end_time": "2025-03-20T07:19:24.121704",
     "exception": false,
     "start_time": "2025-03-20T07:19:22.648729",
     "status": "completed"
    },
    "tags": []
   },
   "outputs": [
    {
     "data": {
      "text/plain": [
       "id                      0.000000\n",
       "Brand                   3.173458\n",
       "Material                2.777996\n",
       "Size                    2.197747\n",
       "Compartments            0.000000\n",
       "Laptop Compartment      2.466829\n",
       "Waterproof              2.361454\n",
       "Style                   2.608205\n",
       "Color                   3.345177\n",
       "Weight Capacity (kg)    0.045264\n",
       "Price                   0.000000\n",
       "dtype: float64"
      ]
     },
     "execution_count": 11,
     "metadata": {},
     "output_type": "execute_result"
    }
   ],
   "source": [
    "data.isnull().mean()*100"
   ]
  },
  {
   "cell_type": "code",
   "execution_count": 12,
   "id": "8985555b",
   "metadata": {
    "execution": {
     "iopub.execute_input": "2025-03-20T07:19:24.140698Z",
     "iopub.status.busy": "2025-03-20T07:19:24.140200Z",
     "iopub.status.idle": "2025-03-20T07:19:25.882713Z",
     "shell.execute_reply": "2025-03-20T07:19:25.881352Z"
    },
    "papermill": {
     "duration": 1.754469,
     "end_time": "2025-03-20T07:19:25.885097",
     "exception": false,
     "start_time": "2025-03-20T07:19:24.130628",
     "status": "completed"
    },
    "tags": []
   },
   "outputs": [],
   "source": [
    "cat_cols = data.select_dtypes(include=['object']).columns\n",
    "num_cols = data.select_dtypes(exclude=['object']).columns\n",
    "id_cols = ['id']\n",
    "target_col = ['target']"
   ]
  },
  {
   "cell_type": "code",
   "execution_count": 13,
   "id": "4a1a4648",
   "metadata": {
    "execution": {
     "iopub.execute_input": "2025-03-20T07:19:25.903951Z",
     "iopub.status.busy": "2025-03-20T07:19:25.903540Z",
     "iopub.status.idle": "2025-03-20T07:19:25.912448Z",
     "shell.execute_reply": "2025-03-20T07:19:25.911338Z"
    },
    "papermill": {
     "duration": 0.020327,
     "end_time": "2025-03-20T07:19:25.914171",
     "exception": false,
     "start_time": "2025-03-20T07:19:25.893844",
     "status": "completed"
    },
    "tags": []
   },
   "outputs": [],
   "source": [
    "def dataTreatment(inp_dataframe):\n",
    "    data = inp_dataframe.copy()\n",
    "    data['Brand'] = data.Brand.fillna(data['Brand'].mode()[0])\n",
    "    data['Material'] = data.Material.fillna(data['Material'].mode()[0])\n",
    "    data['Size'] = data.Size.fillna(data['Size'].mode()[0])\n",
    "    data['Style'] = data.Style.fillna(data['Style'].mode()[0])\n",
    "    data['Color'] = data.Color.fillna(data['Color'].mode()[0])\n",
    "    data['Weight Capacity (kg)'] = data['Weight Capacity (kg)'].fillna(data['Weight Capacity (kg)'].median())\n",
    "    data['Waterproof'] = data.Waterproof.fillna(data['Waterproof'].mode()[0])\n",
    "    data['Laptop Compartment'] = data['Laptop Compartment'].fillna(data['Laptop Compartment'].mode()[0])\n",
    "    \n",
    "    for col in cat_cols:\n",
    "        dummies = pd.get_dummies(data[col], drop_first=True, dtype=\"int\", prefix_sep=\"_\", prefix=col)\n",
    "        data = pd.concat([data, dummies], axis=1)\n",
    "        data.drop(col, axis=1, inplace=True)\n",
    "    data.head()\n",
    "    \n",
    "    data.rename(columns={'Weight Capacity (kg)': 'Weight'}, inplace=True)\n",
    "    data['Weight'] = data['Weight'].apply(lambda x: round(x,2))\n",
    "    data['Compartments'] = data['Compartments'].astype(\"int\")\n",
    "    \n",
    "    return data\n",
    "    "
   ]
  },
  {
   "cell_type": "code",
   "execution_count": 14,
   "id": "e306f1cf",
   "metadata": {
    "execution": {
     "iopub.execute_input": "2025-03-20T07:19:25.933085Z",
     "iopub.status.busy": "2025-03-20T07:19:25.932674Z",
     "iopub.status.idle": "2025-03-20T07:19:48.323433Z",
     "shell.execute_reply": "2025-03-20T07:19:48.322380Z"
    },
    "papermill": {
     "duration": 22.402628,
     "end_time": "2025-03-20T07:19:48.325551",
     "exception": false,
     "start_time": "2025-03-20T07:19:25.922923",
     "status": "completed"
    },
    "tags": []
   },
   "outputs": [
    {
     "data": {
      "text/html": [
       "<div>\n",
       "<style scoped>\n",
       "    .dataframe tbody tr th:only-of-type {\n",
       "        vertical-align: middle;\n",
       "    }\n",
       "\n",
       "    .dataframe tbody tr th {\n",
       "        vertical-align: top;\n",
       "    }\n",
       "\n",
       "    .dataframe thead th {\n",
       "        text-align: right;\n",
       "    }\n",
       "</style>\n",
       "<table border=\"1\" class=\"dataframe\">\n",
       "  <thead>\n",
       "    <tr style=\"text-align: right;\">\n",
       "      <th></th>\n",
       "      <th>id</th>\n",
       "      <th>Compartments</th>\n",
       "      <th>Weight</th>\n",
       "      <th>Price</th>\n",
       "      <th>Brand_Jansport</th>\n",
       "      <th>Brand_Nike</th>\n",
       "      <th>Brand_Puma</th>\n",
       "      <th>Brand_Under Armour</th>\n",
       "      <th>Material_Leather</th>\n",
       "      <th>Material_Nylon</th>\n",
       "      <th>...</th>\n",
       "      <th>Size_Small</th>\n",
       "      <th>Laptop Compartment_Yes</th>\n",
       "      <th>Waterproof_Yes</th>\n",
       "      <th>Style_Messenger</th>\n",
       "      <th>Style_Tote</th>\n",
       "      <th>Color_Blue</th>\n",
       "      <th>Color_Gray</th>\n",
       "      <th>Color_Green</th>\n",
       "      <th>Color_Pink</th>\n",
       "      <th>Color_Red</th>\n",
       "    </tr>\n",
       "  </thead>\n",
       "  <tbody>\n",
       "    <tr>\n",
       "      <th>0</th>\n",
       "      <td>0</td>\n",
       "      <td>7</td>\n",
       "      <td>11.61</td>\n",
       "      <td>112.15875</td>\n",
       "      <td>1</td>\n",
       "      <td>0</td>\n",
       "      <td>0</td>\n",
       "      <td>0</td>\n",
       "      <td>1</td>\n",
       "      <td>0</td>\n",
       "      <td>...</td>\n",
       "      <td>0</td>\n",
       "      <td>1</td>\n",
       "      <td>0</td>\n",
       "      <td>0</td>\n",
       "      <td>1</td>\n",
       "      <td>0</td>\n",
       "      <td>0</td>\n",
       "      <td>0</td>\n",
       "      <td>0</td>\n",
       "      <td>0</td>\n",
       "    </tr>\n",
       "    <tr>\n",
       "      <th>1</th>\n",
       "      <td>1</td>\n",
       "      <td>10</td>\n",
       "      <td>27.08</td>\n",
       "      <td>68.88056</td>\n",
       "      <td>1</td>\n",
       "      <td>0</td>\n",
       "      <td>0</td>\n",
       "      <td>0</td>\n",
       "      <td>0</td>\n",
       "      <td>0</td>\n",
       "      <td>...</td>\n",
       "      <td>1</td>\n",
       "      <td>1</td>\n",
       "      <td>1</td>\n",
       "      <td>1</td>\n",
       "      <td>0</td>\n",
       "      <td>0</td>\n",
       "      <td>0</td>\n",
       "      <td>1</td>\n",
       "      <td>0</td>\n",
       "      <td>0</td>\n",
       "    </tr>\n",
       "    <tr>\n",
       "      <th>2</th>\n",
       "      <td>2</td>\n",
       "      <td>2</td>\n",
       "      <td>16.64</td>\n",
       "      <td>39.17320</td>\n",
       "      <td>0</td>\n",
       "      <td>0</td>\n",
       "      <td>0</td>\n",
       "      <td>1</td>\n",
       "      <td>1</td>\n",
       "      <td>0</td>\n",
       "      <td>...</td>\n",
       "      <td>1</td>\n",
       "      <td>1</td>\n",
       "      <td>0</td>\n",
       "      <td>1</td>\n",
       "      <td>0</td>\n",
       "      <td>0</td>\n",
       "      <td>0</td>\n",
       "      <td>0</td>\n",
       "      <td>0</td>\n",
       "      <td>1</td>\n",
       "    </tr>\n",
       "    <tr>\n",
       "      <th>3</th>\n",
       "      <td>3</td>\n",
       "      <td>8</td>\n",
       "      <td>12.94</td>\n",
       "      <td>80.60793</td>\n",
       "      <td>0</td>\n",
       "      <td>1</td>\n",
       "      <td>0</td>\n",
       "      <td>0</td>\n",
       "      <td>0</td>\n",
       "      <td>1</td>\n",
       "      <td>...</td>\n",
       "      <td>1</td>\n",
       "      <td>1</td>\n",
       "      <td>0</td>\n",
       "      <td>1</td>\n",
       "      <td>0</td>\n",
       "      <td>0</td>\n",
       "      <td>0</td>\n",
       "      <td>1</td>\n",
       "      <td>0</td>\n",
       "      <td>0</td>\n",
       "    </tr>\n",
       "    <tr>\n",
       "      <th>4</th>\n",
       "      <td>4</td>\n",
       "      <td>1</td>\n",
       "      <td>17.75</td>\n",
       "      <td>86.02312</td>\n",
       "      <td>0</td>\n",
       "      <td>0</td>\n",
       "      <td>0</td>\n",
       "      <td>0</td>\n",
       "      <td>0</td>\n",
       "      <td>0</td>\n",
       "      <td>...</td>\n",
       "      <td>0</td>\n",
       "      <td>1</td>\n",
       "      <td>1</td>\n",
       "      <td>1</td>\n",
       "      <td>0</td>\n",
       "      <td>0</td>\n",
       "      <td>0</td>\n",
       "      <td>1</td>\n",
       "      <td>0</td>\n",
       "      <td>0</td>\n",
       "    </tr>\n",
       "  </tbody>\n",
       "</table>\n",
       "<p>5 rows × 22 columns</p>\n",
       "</div>"
      ],
      "text/plain": [
       "   id  Compartments  Weight      Price  Brand_Jansport  Brand_Nike  \\\n",
       "0   0             7   11.61  112.15875               1           0   \n",
       "1   1            10   27.08   68.88056               1           0   \n",
       "2   2             2   16.64   39.17320               0           0   \n",
       "3   3             8   12.94   80.60793               0           1   \n",
       "4   4             1   17.75   86.02312               0           0   \n",
       "\n",
       "   Brand_Puma  Brand_Under Armour  Material_Leather  Material_Nylon  ...  \\\n",
       "0           0                   0                 1               0  ...   \n",
       "1           0                   0                 0               0  ...   \n",
       "2           0                   1                 1               0  ...   \n",
       "3           0                   0                 0               1  ...   \n",
       "4           0                   0                 0               0  ...   \n",
       "\n",
       "   Size_Small  Laptop Compartment_Yes  Waterproof_Yes  Style_Messenger  \\\n",
       "0           0                       1               0                0   \n",
       "1           1                       1               1                1   \n",
       "2           1                       1               0                1   \n",
       "3           1                       1               0                1   \n",
       "4           0                       1               1                1   \n",
       "\n",
       "   Style_Tote  Color_Blue  Color_Gray  Color_Green  Color_Pink  Color_Red  \n",
       "0           1           0           0            0           0          0  \n",
       "1           0           0           0            1           0          0  \n",
       "2           0           0           0            0           0          1  \n",
       "3           0           0           0            1           0          0  \n",
       "4           0           0           0            1           0          0  \n",
       "\n",
       "[5 rows x 22 columns]"
      ]
     },
     "execution_count": 14,
     "metadata": {},
     "output_type": "execute_result"
    }
   ],
   "source": [
    "cleaned_data = dataTreatment(data)\n",
    "cleaned_data.head()"
   ]
  },
  {
   "cell_type": "code",
   "execution_count": 15,
   "id": "2a57a362",
   "metadata": {
    "execution": {
     "iopub.execute_input": "2025-03-20T07:19:48.344987Z",
     "iopub.status.busy": "2025-03-20T07:19:48.344559Z",
     "iopub.status.idle": "2025-03-20T07:19:50.005089Z",
     "shell.execute_reply": "2025-03-20T07:19:50.003114Z"
    },
    "papermill": {
     "duration": 1.673334,
     "end_time": "2025-03-20T07:19:50.008104",
     "exception": false,
     "start_time": "2025-03-20T07:19:48.334770",
     "status": "completed"
    },
    "tags": []
   },
   "outputs": [],
   "source": [
    "from sklearn.preprocessing import MinMaxScaler\n",
    "from sklearn.model_selection import train_test_split"
   ]
  },
  {
   "cell_type": "code",
   "execution_count": 16,
   "id": "08071abc",
   "metadata": {
    "execution": {
     "iopub.execute_input": "2025-03-20T07:19:50.035605Z",
     "iopub.status.busy": "2025-03-20T07:19:50.034842Z",
     "iopub.status.idle": "2025-03-20T07:19:52.505873Z",
     "shell.execute_reply": "2025-03-20T07:19:52.504478Z"
    },
    "papermill": {
     "duration": 2.483963,
     "end_time": "2025-03-20T07:19:52.508364",
     "exception": false,
     "start_time": "2025-03-20T07:19:50.024401",
     "status": "completed"
    },
    "tags": []
   },
   "outputs": [],
   "source": [
    "df_train, df_test = train_test_split(cleaned_data, test_size=0.2, random_state=56)"
   ]
  },
  {
   "cell_type": "code",
   "execution_count": 17,
   "id": "3aa7c959",
   "metadata": {
    "execution": {
     "iopub.execute_input": "2025-03-20T07:19:52.528003Z",
     "iopub.status.busy": "2025-03-20T07:19:52.527567Z",
     "iopub.status.idle": "2025-03-20T07:19:52.534044Z",
     "shell.execute_reply": "2025-03-20T07:19:52.533086Z"
    },
    "papermill": {
     "duration": 0.017827,
     "end_time": "2025-03-20T07:19:52.535625",
     "exception": false,
     "start_time": "2025-03-20T07:19:52.517798",
     "status": "completed"
    },
    "tags": []
   },
   "outputs": [
    {
     "data": {
      "text/plain": [
       "((3195454, 22), (798864, 22))"
      ]
     },
     "execution_count": 17,
     "metadata": {},
     "output_type": "execute_result"
    }
   ],
   "source": [
    "df_train.shape, df_test.shape"
   ]
  },
  {
   "cell_type": "code",
   "execution_count": 18,
   "id": "1a980d76",
   "metadata": {
    "execution": {
     "iopub.execute_input": "2025-03-20T07:19:52.554767Z",
     "iopub.status.busy": "2025-03-20T07:19:52.554338Z",
     "iopub.status.idle": "2025-03-20T07:19:52.927932Z",
     "shell.execute_reply": "2025-03-20T07:19:52.926724Z"
    },
    "papermill": {
     "duration": 0.385861,
     "end_time": "2025-03-20T07:19:52.930440",
     "exception": false,
     "start_time": "2025-03-20T07:19:52.544579",
     "status": "completed"
    },
    "tags": []
   },
   "outputs": [],
   "source": [
    "df_train.drop('id', axis=1, inplace=True)\n",
    "df_test.drop('id', axis=1, inplace=True)"
   ]
  },
  {
   "cell_type": "code",
   "execution_count": 19,
   "id": "5a7ab057",
   "metadata": {
    "execution": {
     "iopub.execute_input": "2025-03-20T07:19:52.950426Z",
     "iopub.status.busy": "2025-03-20T07:19:52.949947Z",
     "iopub.status.idle": "2025-03-20T07:19:52.956338Z",
     "shell.execute_reply": "2025-03-20T07:19:52.955289Z"
    },
    "papermill": {
     "duration": 0.018265,
     "end_time": "2025-03-20T07:19:52.958094",
     "exception": false,
     "start_time": "2025-03-20T07:19:52.939829",
     "status": "completed"
    },
    "tags": []
   },
   "outputs": [
    {
     "data": {
      "text/plain": [
       "((3195454, 21), (798864, 21))"
      ]
     },
     "execution_count": 19,
     "metadata": {},
     "output_type": "execute_result"
    }
   ],
   "source": [
    "df_train.shape, df_test.shape"
   ]
  },
  {
   "cell_type": "code",
   "execution_count": 20,
   "id": "c83eae69",
   "metadata": {
    "execution": {
     "iopub.execute_input": "2025-03-20T07:19:52.978206Z",
     "iopub.status.busy": "2025-03-20T07:19:52.977793Z",
     "iopub.status.idle": "2025-03-20T07:19:52.998845Z",
     "shell.execute_reply": "2025-03-20T07:19:52.997513Z"
    },
    "papermill": {
     "duration": 0.033837,
     "end_time": "2025-03-20T07:19:53.001278",
     "exception": false,
     "start_time": "2025-03-20T07:19:52.967441",
     "status": "completed"
    },
    "tags": []
   },
   "outputs": [
    {
     "data": {
      "text/html": [
       "<div>\n",
       "<style scoped>\n",
       "    .dataframe tbody tr th:only-of-type {\n",
       "        vertical-align: middle;\n",
       "    }\n",
       "\n",
       "    .dataframe tbody tr th {\n",
       "        vertical-align: top;\n",
       "    }\n",
       "\n",
       "    .dataframe thead th {\n",
       "        text-align: right;\n",
       "    }\n",
       "</style>\n",
       "<table border=\"1\" class=\"dataframe\">\n",
       "  <thead>\n",
       "    <tr style=\"text-align: right;\">\n",
       "      <th></th>\n",
       "      <th>Compartments</th>\n",
       "      <th>Weight</th>\n",
       "      <th>Price</th>\n",
       "      <th>Brand_Jansport</th>\n",
       "      <th>Brand_Nike</th>\n",
       "      <th>Brand_Puma</th>\n",
       "      <th>Brand_Under Armour</th>\n",
       "      <th>Material_Leather</th>\n",
       "      <th>Material_Nylon</th>\n",
       "      <th>Material_Polyester</th>\n",
       "      <th>...</th>\n",
       "      <th>Size_Small</th>\n",
       "      <th>Laptop Compartment_Yes</th>\n",
       "      <th>Waterproof_Yes</th>\n",
       "      <th>Style_Messenger</th>\n",
       "      <th>Style_Tote</th>\n",
       "      <th>Color_Blue</th>\n",
       "      <th>Color_Gray</th>\n",
       "      <th>Color_Green</th>\n",
       "      <th>Color_Pink</th>\n",
       "      <th>Color_Red</th>\n",
       "    </tr>\n",
       "  </thead>\n",
       "  <tbody>\n",
       "    <tr>\n",
       "      <th>2836732</th>\n",
       "      <td>1</td>\n",
       "      <td>11.93</td>\n",
       "      <td>77.58826</td>\n",
       "      <td>0</td>\n",
       "      <td>0</td>\n",
       "      <td>0</td>\n",
       "      <td>0</td>\n",
       "      <td>1</td>\n",
       "      <td>0</td>\n",
       "      <td>0</td>\n",
       "      <td>...</td>\n",
       "      <td>1</td>\n",
       "      <td>0</td>\n",
       "      <td>0</td>\n",
       "      <td>1</td>\n",
       "      <td>0</td>\n",
       "      <td>0</td>\n",
       "      <td>0</td>\n",
       "      <td>0</td>\n",
       "      <td>0</td>\n",
       "      <td>1</td>\n",
       "    </tr>\n",
       "    <tr>\n",
       "      <th>2976330</th>\n",
       "      <td>3</td>\n",
       "      <td>20.95</td>\n",
       "      <td>119.08740</td>\n",
       "      <td>0</td>\n",
       "      <td>0</td>\n",
       "      <td>0</td>\n",
       "      <td>0</td>\n",
       "      <td>0</td>\n",
       "      <td>1</td>\n",
       "      <td>0</td>\n",
       "      <td>...</td>\n",
       "      <td>1</td>\n",
       "      <td>0</td>\n",
       "      <td>1</td>\n",
       "      <td>0</td>\n",
       "      <td>1</td>\n",
       "      <td>0</td>\n",
       "      <td>1</td>\n",
       "      <td>0</td>\n",
       "      <td>0</td>\n",
       "      <td>0</td>\n",
       "    </tr>\n",
       "    <tr>\n",
       "      <th>968160</th>\n",
       "      <td>3</td>\n",
       "      <td>10.13</td>\n",
       "      <td>35.45515</td>\n",
       "      <td>0</td>\n",
       "      <td>0</td>\n",
       "      <td>0</td>\n",
       "      <td>0</td>\n",
       "      <td>0</td>\n",
       "      <td>0</td>\n",
       "      <td>1</td>\n",
       "      <td>...</td>\n",
       "      <td>0</td>\n",
       "      <td>0</td>\n",
       "      <td>1</td>\n",
       "      <td>1</td>\n",
       "      <td>0</td>\n",
       "      <td>0</td>\n",
       "      <td>0</td>\n",
       "      <td>1</td>\n",
       "      <td>0</td>\n",
       "      <td>0</td>\n",
       "    </tr>\n",
       "    <tr>\n",
       "      <th>205482</th>\n",
       "      <td>9</td>\n",
       "      <td>27.64</td>\n",
       "      <td>78.85025</td>\n",
       "      <td>0</td>\n",
       "      <td>0</td>\n",
       "      <td>0</td>\n",
       "      <td>1</td>\n",
       "      <td>0</td>\n",
       "      <td>0</td>\n",
       "      <td>0</td>\n",
       "      <td>...</td>\n",
       "      <td>0</td>\n",
       "      <td>0</td>\n",
       "      <td>0</td>\n",
       "      <td>1</td>\n",
       "      <td>0</td>\n",
       "      <td>0</td>\n",
       "      <td>0</td>\n",
       "      <td>0</td>\n",
       "      <td>0</td>\n",
       "      <td>1</td>\n",
       "    </tr>\n",
       "    <tr>\n",
       "      <th>2778176</th>\n",
       "      <td>9</td>\n",
       "      <td>9.93</td>\n",
       "      <td>73.22797</td>\n",
       "      <td>0</td>\n",
       "      <td>0</td>\n",
       "      <td>1</td>\n",
       "      <td>0</td>\n",
       "      <td>1</td>\n",
       "      <td>0</td>\n",
       "      <td>0</td>\n",
       "      <td>...</td>\n",
       "      <td>0</td>\n",
       "      <td>0</td>\n",
       "      <td>1</td>\n",
       "      <td>1</td>\n",
       "      <td>0</td>\n",
       "      <td>0</td>\n",
       "      <td>1</td>\n",
       "      <td>0</td>\n",
       "      <td>0</td>\n",
       "      <td>0</td>\n",
       "    </tr>\n",
       "  </tbody>\n",
       "</table>\n",
       "<p>5 rows × 21 columns</p>\n",
       "</div>"
      ],
      "text/plain": [
       "         Compartments  Weight      Price  Brand_Jansport  Brand_Nike  \\\n",
       "2836732             1   11.93   77.58826               0           0   \n",
       "2976330             3   20.95  119.08740               0           0   \n",
       "968160              3   10.13   35.45515               0           0   \n",
       "205482              9   27.64   78.85025               0           0   \n",
       "2778176             9    9.93   73.22797               0           0   \n",
       "\n",
       "         Brand_Puma  Brand_Under Armour  Material_Leather  Material_Nylon  \\\n",
       "2836732           0                   0                 1               0   \n",
       "2976330           0                   0                 0               1   \n",
       "968160            0                   0                 0               0   \n",
       "205482            0                   1                 0               0   \n",
       "2778176           1                   0                 1               0   \n",
       "\n",
       "         Material_Polyester  ...  Size_Small  Laptop Compartment_Yes  \\\n",
       "2836732                   0  ...           1                       0   \n",
       "2976330                   0  ...           1                       0   \n",
       "968160                    1  ...           0                       0   \n",
       "205482                    0  ...           0                       0   \n",
       "2778176                   0  ...           0                       0   \n",
       "\n",
       "         Waterproof_Yes  Style_Messenger  Style_Tote  Color_Blue  Color_Gray  \\\n",
       "2836732               0                1           0           0           0   \n",
       "2976330               1                0           1           0           1   \n",
       "968160                1                1           0           0           0   \n",
       "205482                0                1           0           0           0   \n",
       "2778176               1                1           0           0           1   \n",
       "\n",
       "         Color_Green  Color_Pink  Color_Red  \n",
       "2836732            0           0          1  \n",
       "2976330            0           0          0  \n",
       "968160             1           0          0  \n",
       "205482             0           0          1  \n",
       "2778176            0           0          0  \n",
       "\n",
       "[5 rows x 21 columns]"
      ]
     },
     "execution_count": 20,
     "metadata": {},
     "output_type": "execute_result"
    }
   ],
   "source": [
    "df_train.head()"
   ]
  },
  {
   "cell_type": "code",
   "execution_count": 21,
   "id": "8669a663",
   "metadata": {
    "execution": {
     "iopub.execute_input": "2025-03-20T07:19:53.022525Z",
     "iopub.status.busy": "2025-03-20T07:19:53.022045Z",
     "iopub.status.idle": "2025-03-20T07:19:53.026734Z",
     "shell.execute_reply": "2025-03-20T07:19:53.025584Z"
    },
    "papermill": {
     "duration": 0.016958,
     "end_time": "2025-03-20T07:19:53.028610",
     "exception": false,
     "start_time": "2025-03-20T07:19:53.011652",
     "status": "completed"
    },
    "tags": []
   },
   "outputs": [],
   "source": [
    "scaler = MinMaxScaler()"
   ]
  },
  {
   "cell_type": "code",
   "execution_count": 22,
   "id": "28564e5e",
   "metadata": {
    "execution": {
     "iopub.execute_input": "2025-03-20T07:19:53.048950Z",
     "iopub.status.busy": "2025-03-20T07:19:53.048532Z",
     "iopub.status.idle": "2025-03-20T07:19:53.053256Z",
     "shell.execute_reply": "2025-03-20T07:19:53.051988Z"
    },
    "papermill": {
     "duration": 0.017019,
     "end_time": "2025-03-20T07:19:53.055108",
     "exception": false,
     "start_time": "2025-03-20T07:19:53.038089",
     "status": "completed"
    },
    "tags": []
   },
   "outputs": [],
   "source": [
    "scale_cols = ['Weight','Compartments']"
   ]
  },
  {
   "cell_type": "code",
   "execution_count": 23,
   "id": "cc37d8d2",
   "metadata": {
    "execution": {
     "iopub.execute_input": "2025-03-20T07:19:53.075512Z",
     "iopub.status.busy": "2025-03-20T07:19:53.075016Z",
     "iopub.status.idle": "2025-03-20T07:19:53.272834Z",
     "shell.execute_reply": "2025-03-20T07:19:53.271715Z"
    },
    "papermill": {
     "duration": 0.210237,
     "end_time": "2025-03-20T07:19:53.274895",
     "exception": false,
     "start_time": "2025-03-20T07:19:53.064658",
     "status": "completed"
    },
    "tags": []
   },
   "outputs": [
    {
     "data": {
      "text/html": [
       "<div>\n",
       "<style scoped>\n",
       "    .dataframe tbody tr th:only-of-type {\n",
       "        vertical-align: middle;\n",
       "    }\n",
       "\n",
       "    .dataframe tbody tr th {\n",
       "        vertical-align: top;\n",
       "    }\n",
       "\n",
       "    .dataframe thead th {\n",
       "        text-align: right;\n",
       "    }\n",
       "</style>\n",
       "<table border=\"1\" class=\"dataframe\">\n",
       "  <thead>\n",
       "    <tr style=\"text-align: right;\">\n",
       "      <th></th>\n",
       "      <th>Compartments</th>\n",
       "      <th>Weight</th>\n",
       "      <th>Price</th>\n",
       "      <th>Brand_Jansport</th>\n",
       "      <th>Brand_Nike</th>\n",
       "      <th>Brand_Puma</th>\n",
       "      <th>Brand_Under Armour</th>\n",
       "      <th>Material_Leather</th>\n",
       "      <th>Material_Nylon</th>\n",
       "      <th>Material_Polyester</th>\n",
       "      <th>...</th>\n",
       "      <th>Size_Small</th>\n",
       "      <th>Laptop Compartment_Yes</th>\n",
       "      <th>Waterproof_Yes</th>\n",
       "      <th>Style_Messenger</th>\n",
       "      <th>Style_Tote</th>\n",
       "      <th>Color_Blue</th>\n",
       "      <th>Color_Gray</th>\n",
       "      <th>Color_Green</th>\n",
       "      <th>Color_Pink</th>\n",
       "      <th>Color_Red</th>\n",
       "    </tr>\n",
       "  </thead>\n",
       "  <tbody>\n",
       "    <tr>\n",
       "      <th>2836732</th>\n",
       "      <td>0.000000</td>\n",
       "      <td>0.2772</td>\n",
       "      <td>77.58826</td>\n",
       "      <td>0</td>\n",
       "      <td>0</td>\n",
       "      <td>0</td>\n",
       "      <td>0</td>\n",
       "      <td>1</td>\n",
       "      <td>0</td>\n",
       "      <td>0</td>\n",
       "      <td>...</td>\n",
       "      <td>1</td>\n",
       "      <td>0</td>\n",
       "      <td>0</td>\n",
       "      <td>1</td>\n",
       "      <td>0</td>\n",
       "      <td>0</td>\n",
       "      <td>0</td>\n",
       "      <td>0</td>\n",
       "      <td>0</td>\n",
       "      <td>1</td>\n",
       "    </tr>\n",
       "    <tr>\n",
       "      <th>2976330</th>\n",
       "      <td>0.222222</td>\n",
       "      <td>0.6380</td>\n",
       "      <td>119.08740</td>\n",
       "      <td>0</td>\n",
       "      <td>0</td>\n",
       "      <td>0</td>\n",
       "      <td>0</td>\n",
       "      <td>0</td>\n",
       "      <td>1</td>\n",
       "      <td>0</td>\n",
       "      <td>...</td>\n",
       "      <td>1</td>\n",
       "      <td>0</td>\n",
       "      <td>1</td>\n",
       "      <td>0</td>\n",
       "      <td>1</td>\n",
       "      <td>0</td>\n",
       "      <td>1</td>\n",
       "      <td>0</td>\n",
       "      <td>0</td>\n",
       "      <td>0</td>\n",
       "    </tr>\n",
       "    <tr>\n",
       "      <th>968160</th>\n",
       "      <td>0.222222</td>\n",
       "      <td>0.2052</td>\n",
       "      <td>35.45515</td>\n",
       "      <td>0</td>\n",
       "      <td>0</td>\n",
       "      <td>0</td>\n",
       "      <td>0</td>\n",
       "      <td>0</td>\n",
       "      <td>0</td>\n",
       "      <td>1</td>\n",
       "      <td>...</td>\n",
       "      <td>0</td>\n",
       "      <td>0</td>\n",
       "      <td>1</td>\n",
       "      <td>1</td>\n",
       "      <td>0</td>\n",
       "      <td>0</td>\n",
       "      <td>0</td>\n",
       "      <td>1</td>\n",
       "      <td>0</td>\n",
       "      <td>0</td>\n",
       "    </tr>\n",
       "    <tr>\n",
       "      <th>205482</th>\n",
       "      <td>0.888889</td>\n",
       "      <td>0.9056</td>\n",
       "      <td>78.85025</td>\n",
       "      <td>0</td>\n",
       "      <td>0</td>\n",
       "      <td>0</td>\n",
       "      <td>1</td>\n",
       "      <td>0</td>\n",
       "      <td>0</td>\n",
       "      <td>0</td>\n",
       "      <td>...</td>\n",
       "      <td>0</td>\n",
       "      <td>0</td>\n",
       "      <td>0</td>\n",
       "      <td>1</td>\n",
       "      <td>0</td>\n",
       "      <td>0</td>\n",
       "      <td>0</td>\n",
       "      <td>0</td>\n",
       "      <td>0</td>\n",
       "      <td>1</td>\n",
       "    </tr>\n",
       "    <tr>\n",
       "      <th>2778176</th>\n",
       "      <td>0.888889</td>\n",
       "      <td>0.1972</td>\n",
       "      <td>73.22797</td>\n",
       "      <td>0</td>\n",
       "      <td>0</td>\n",
       "      <td>1</td>\n",
       "      <td>0</td>\n",
       "      <td>1</td>\n",
       "      <td>0</td>\n",
       "      <td>0</td>\n",
       "      <td>...</td>\n",
       "      <td>0</td>\n",
       "      <td>0</td>\n",
       "      <td>1</td>\n",
       "      <td>1</td>\n",
       "      <td>0</td>\n",
       "      <td>0</td>\n",
       "      <td>1</td>\n",
       "      <td>0</td>\n",
       "      <td>0</td>\n",
       "      <td>0</td>\n",
       "    </tr>\n",
       "  </tbody>\n",
       "</table>\n",
       "<p>5 rows × 21 columns</p>\n",
       "</div>"
      ],
      "text/plain": [
       "         Compartments  Weight      Price  Brand_Jansport  Brand_Nike  \\\n",
       "2836732      0.000000  0.2772   77.58826               0           0   \n",
       "2976330      0.222222  0.6380  119.08740               0           0   \n",
       "968160       0.222222  0.2052   35.45515               0           0   \n",
       "205482       0.888889  0.9056   78.85025               0           0   \n",
       "2778176      0.888889  0.1972   73.22797               0           0   \n",
       "\n",
       "         Brand_Puma  Brand_Under Armour  Material_Leather  Material_Nylon  \\\n",
       "2836732           0                   0                 1               0   \n",
       "2976330           0                   0                 0               1   \n",
       "968160            0                   0                 0               0   \n",
       "205482            0                   1                 0               0   \n",
       "2778176           1                   0                 1               0   \n",
       "\n",
       "         Material_Polyester  ...  Size_Small  Laptop Compartment_Yes  \\\n",
       "2836732                   0  ...           1                       0   \n",
       "2976330                   0  ...           1                       0   \n",
       "968160                    1  ...           0                       0   \n",
       "205482                    0  ...           0                       0   \n",
       "2778176                   0  ...           0                       0   \n",
       "\n",
       "         Waterproof_Yes  Style_Messenger  Style_Tote  Color_Blue  Color_Gray  \\\n",
       "2836732               0                1           0           0           0   \n",
       "2976330               1                0           1           0           1   \n",
       "968160                1                1           0           0           0   \n",
       "205482                0                1           0           0           0   \n",
       "2778176               1                1           0           0           1   \n",
       "\n",
       "         Color_Green  Color_Pink  Color_Red  \n",
       "2836732            0           0          1  \n",
       "2976330            0           0          0  \n",
       "968160             1           0          0  \n",
       "205482             0           0          1  \n",
       "2778176            0           0          0  \n",
       "\n",
       "[5 rows x 21 columns]"
      ]
     },
     "execution_count": 23,
     "metadata": {},
     "output_type": "execute_result"
    }
   ],
   "source": [
    "df_train[scale_cols] = scaler.fit_transform(df_train[scale_cols])\n",
    "df_train.head()"
   ]
  },
  {
   "cell_type": "code",
   "execution_count": 24,
   "id": "d24251f2",
   "metadata": {
    "execution": {
     "iopub.execute_input": "2025-03-20T07:19:53.296015Z",
     "iopub.status.busy": "2025-03-20T07:19:53.295595Z",
     "iopub.status.idle": "2025-03-20T07:19:53.340068Z",
     "shell.execute_reply": "2025-03-20T07:19:53.338796Z"
    },
    "papermill": {
     "duration": 0.057748,
     "end_time": "2025-03-20T07:19:53.342531",
     "exception": false,
     "start_time": "2025-03-20T07:19:53.284783",
     "status": "completed"
    },
    "tags": []
   },
   "outputs": [],
   "source": [
    "df_test[scale_cols] = scaler.transform(df_test[scale_cols])"
   ]
  },
  {
   "cell_type": "code",
   "execution_count": 25,
   "id": "3b38e436",
   "metadata": {
    "execution": {
     "iopub.execute_input": "2025-03-20T07:19:53.366401Z",
     "iopub.status.busy": "2025-03-20T07:19:53.365864Z",
     "iopub.status.idle": "2025-03-20T07:19:53.371435Z",
     "shell.execute_reply": "2025-03-20T07:19:53.370322Z"
    },
    "papermill": {
     "duration": 0.019172,
     "end_time": "2025-03-20T07:19:53.373197",
     "exception": false,
     "start_time": "2025-03-20T07:19:53.354025",
     "status": "completed"
    },
    "tags": []
   },
   "outputs": [],
   "source": [
    "y_train = df_train.pop('Price')\n",
    "X_train = df_train"
   ]
  },
  {
   "cell_type": "code",
   "execution_count": 26,
   "id": "d7583149",
   "metadata": {
    "execution": {
     "iopub.execute_input": "2025-03-20T07:19:53.404521Z",
     "iopub.status.busy": "2025-03-20T07:19:53.403957Z",
     "iopub.status.idle": "2025-03-20T07:19:53.410298Z",
     "shell.execute_reply": "2025-03-20T07:19:53.408828Z"
    },
    "papermill": {
     "duration": 0.027939,
     "end_time": "2025-03-20T07:19:53.412318",
     "exception": false,
     "start_time": "2025-03-20T07:19:53.384379",
     "status": "completed"
    },
    "tags": []
   },
   "outputs": [],
   "source": [
    "y_test = df_test.pop('Price')\n",
    "X_test = df_test"
   ]
  },
  {
   "cell_type": "code",
   "execution_count": 27,
   "id": "4a698448",
   "metadata": {
    "execution": {
     "iopub.execute_input": "2025-03-20T07:19:53.434658Z",
     "iopub.status.busy": "2025-03-20T07:19:53.434142Z",
     "iopub.status.idle": "2025-03-20T07:19:53.451724Z",
     "shell.execute_reply": "2025-03-20T07:19:53.450482Z"
    },
    "papermill": {
     "duration": 0.030402,
     "end_time": "2025-03-20T07:19:53.453709",
     "exception": false,
     "start_time": "2025-03-20T07:19:53.423307",
     "status": "completed"
    },
    "tags": []
   },
   "outputs": [
    {
     "data": {
      "text/html": [
       "<div>\n",
       "<style scoped>\n",
       "    .dataframe tbody tr th:only-of-type {\n",
       "        vertical-align: middle;\n",
       "    }\n",
       "\n",
       "    .dataframe tbody tr th {\n",
       "        vertical-align: top;\n",
       "    }\n",
       "\n",
       "    .dataframe thead th {\n",
       "        text-align: right;\n",
       "    }\n",
       "</style>\n",
       "<table border=\"1\" class=\"dataframe\">\n",
       "  <thead>\n",
       "    <tr style=\"text-align: right;\">\n",
       "      <th></th>\n",
       "      <th>Compartments</th>\n",
       "      <th>Weight</th>\n",
       "      <th>Brand_Jansport</th>\n",
       "      <th>Brand_Nike</th>\n",
       "      <th>Brand_Puma</th>\n",
       "      <th>Brand_Under Armour</th>\n",
       "      <th>Material_Leather</th>\n",
       "      <th>Material_Nylon</th>\n",
       "      <th>Material_Polyester</th>\n",
       "      <th>Size_Medium</th>\n",
       "      <th>Size_Small</th>\n",
       "      <th>Laptop Compartment_Yes</th>\n",
       "      <th>Waterproof_Yes</th>\n",
       "      <th>Style_Messenger</th>\n",
       "      <th>Style_Tote</th>\n",
       "      <th>Color_Blue</th>\n",
       "      <th>Color_Gray</th>\n",
       "      <th>Color_Green</th>\n",
       "      <th>Color_Pink</th>\n",
       "      <th>Color_Red</th>\n",
       "    </tr>\n",
       "  </thead>\n",
       "  <tbody>\n",
       "    <tr>\n",
       "      <th>2836732</th>\n",
       "      <td>0.000000</td>\n",
       "      <td>0.2772</td>\n",
       "      <td>0</td>\n",
       "      <td>0</td>\n",
       "      <td>0</td>\n",
       "      <td>0</td>\n",
       "      <td>1</td>\n",
       "      <td>0</td>\n",
       "      <td>0</td>\n",
       "      <td>0</td>\n",
       "      <td>1</td>\n",
       "      <td>0</td>\n",
       "      <td>0</td>\n",
       "      <td>1</td>\n",
       "      <td>0</td>\n",
       "      <td>0</td>\n",
       "      <td>0</td>\n",
       "      <td>0</td>\n",
       "      <td>0</td>\n",
       "      <td>1</td>\n",
       "    </tr>\n",
       "    <tr>\n",
       "      <th>2976330</th>\n",
       "      <td>0.222222</td>\n",
       "      <td>0.6380</td>\n",
       "      <td>0</td>\n",
       "      <td>0</td>\n",
       "      <td>0</td>\n",
       "      <td>0</td>\n",
       "      <td>0</td>\n",
       "      <td>1</td>\n",
       "      <td>0</td>\n",
       "      <td>0</td>\n",
       "      <td>1</td>\n",
       "      <td>0</td>\n",
       "      <td>1</td>\n",
       "      <td>0</td>\n",
       "      <td>1</td>\n",
       "      <td>0</td>\n",
       "      <td>1</td>\n",
       "      <td>0</td>\n",
       "      <td>0</td>\n",
       "      <td>0</td>\n",
       "    </tr>\n",
       "    <tr>\n",
       "      <th>968160</th>\n",
       "      <td>0.222222</td>\n",
       "      <td>0.2052</td>\n",
       "      <td>0</td>\n",
       "      <td>0</td>\n",
       "      <td>0</td>\n",
       "      <td>0</td>\n",
       "      <td>0</td>\n",
       "      <td>0</td>\n",
       "      <td>1</td>\n",
       "      <td>1</td>\n",
       "      <td>0</td>\n",
       "      <td>0</td>\n",
       "      <td>1</td>\n",
       "      <td>1</td>\n",
       "      <td>0</td>\n",
       "      <td>0</td>\n",
       "      <td>0</td>\n",
       "      <td>1</td>\n",
       "      <td>0</td>\n",
       "      <td>0</td>\n",
       "    </tr>\n",
       "    <tr>\n",
       "      <th>205482</th>\n",
       "      <td>0.888889</td>\n",
       "      <td>0.9056</td>\n",
       "      <td>0</td>\n",
       "      <td>0</td>\n",
       "      <td>0</td>\n",
       "      <td>1</td>\n",
       "      <td>0</td>\n",
       "      <td>0</td>\n",
       "      <td>0</td>\n",
       "      <td>0</td>\n",
       "      <td>0</td>\n",
       "      <td>0</td>\n",
       "      <td>0</td>\n",
       "      <td>1</td>\n",
       "      <td>0</td>\n",
       "      <td>0</td>\n",
       "      <td>0</td>\n",
       "      <td>0</td>\n",
       "      <td>0</td>\n",
       "      <td>1</td>\n",
       "    </tr>\n",
       "    <tr>\n",
       "      <th>2778176</th>\n",
       "      <td>0.888889</td>\n",
       "      <td>0.1972</td>\n",
       "      <td>0</td>\n",
       "      <td>0</td>\n",
       "      <td>1</td>\n",
       "      <td>0</td>\n",
       "      <td>1</td>\n",
       "      <td>0</td>\n",
       "      <td>0</td>\n",
       "      <td>1</td>\n",
       "      <td>0</td>\n",
       "      <td>0</td>\n",
       "      <td>1</td>\n",
       "      <td>1</td>\n",
       "      <td>0</td>\n",
       "      <td>0</td>\n",
       "      <td>1</td>\n",
       "      <td>0</td>\n",
       "      <td>0</td>\n",
       "      <td>0</td>\n",
       "    </tr>\n",
       "  </tbody>\n",
       "</table>\n",
       "</div>"
      ],
      "text/plain": [
       "         Compartments  Weight  Brand_Jansport  Brand_Nike  Brand_Puma  \\\n",
       "2836732      0.000000  0.2772               0           0           0   \n",
       "2976330      0.222222  0.6380               0           0           0   \n",
       "968160       0.222222  0.2052               0           0           0   \n",
       "205482       0.888889  0.9056               0           0           0   \n",
       "2778176      0.888889  0.1972               0           0           1   \n",
       "\n",
       "         Brand_Under Armour  Material_Leather  Material_Nylon  \\\n",
       "2836732                   0                 1               0   \n",
       "2976330                   0                 0               1   \n",
       "968160                    0                 0               0   \n",
       "205482                    1                 0               0   \n",
       "2778176                   0                 1               0   \n",
       "\n",
       "         Material_Polyester  Size_Medium  Size_Small  Laptop Compartment_Yes  \\\n",
       "2836732                   0            0           1                       0   \n",
       "2976330                   0            0           1                       0   \n",
       "968160                    1            1           0                       0   \n",
       "205482                    0            0           0                       0   \n",
       "2778176                   0            1           0                       0   \n",
       "\n",
       "         Waterproof_Yes  Style_Messenger  Style_Tote  Color_Blue  Color_Gray  \\\n",
       "2836732               0                1           0           0           0   \n",
       "2976330               1                0           1           0           1   \n",
       "968160                1                1           0           0           0   \n",
       "205482                0                1           0           0           0   \n",
       "2778176               1                1           0           0           1   \n",
       "\n",
       "         Color_Green  Color_Pink  Color_Red  \n",
       "2836732            0           0          1  \n",
       "2976330            0           0          0  \n",
       "968160             1           0          0  \n",
       "205482             0           0          1  \n",
       "2778176            0           0          0  "
      ]
     },
     "execution_count": 27,
     "metadata": {},
     "output_type": "execute_result"
    }
   ],
   "source": [
    "X_train.head()"
   ]
  },
  {
   "cell_type": "code",
   "execution_count": 28,
   "id": "87cc035a",
   "metadata": {
    "execution": {
     "iopub.execute_input": "2025-03-20T07:19:53.475061Z",
     "iopub.status.busy": "2025-03-20T07:19:53.474642Z",
     "iopub.status.idle": "2025-03-20T07:19:54.071592Z",
     "shell.execute_reply": "2025-03-20T07:19:54.070332Z"
    },
    "papermill": {
     "duration": 0.610216,
     "end_time": "2025-03-20T07:19:54.074056",
     "exception": false,
     "start_time": "2025-03-20T07:19:53.463840",
     "status": "completed"
    },
    "tags": []
   },
   "outputs": [],
   "source": [
    "import matplotlib.pyplot as plt\n",
    "import seaborn as sns"
   ]
  },
  {
   "cell_type": "code",
   "execution_count": 29,
   "id": "51c19aaf",
   "metadata": {
    "execution": {
     "iopub.execute_input": "2025-03-20T07:19:54.096889Z",
     "iopub.status.busy": "2025-03-20T07:19:54.096208Z",
     "iopub.status.idle": "2025-03-20T07:19:59.917596Z",
     "shell.execute_reply": "2025-03-20T07:19:59.915753Z"
    },
    "papermill": {
     "duration": 5.836429,
     "end_time": "2025-03-20T07:19:59.921387",
     "exception": false,
     "start_time": "2025-03-20T07:19:54.084958",
     "status": "completed"
    },
    "tags": []
   },
   "outputs": [
    {
     "data": {
      "image/png": "[encoded data removed]",
      "text/plain": [
       "<Figure size 1500x1500 with 2 Axes>"
      ]
     },
     "metadata": {},
     "output_type": "display_data"
    }
   ],
   "source": [
    "plt.figure(figsize=[15,15])\n",
    "sns.heatmap(X_train.corr(), annot=True, fmt=\"0.2f\")\n",
    "plt.tight_layout()\n",
    "plt.show()"
   ]
  },
  {
   "cell_type": "code",
   "execution_count": 30,
   "id": "83852891",
   "metadata": {
    "execution": {
     "iopub.execute_input": "2025-03-20T07:19:59.952090Z",
     "iopub.status.busy": "2025-03-20T07:19:59.951673Z",
     "iopub.status.idle": "2025-03-20T07:20:06.172496Z",
     "shell.execute_reply": "2025-03-20T07:20:06.171196Z"
    },
    "papermill": {
     "duration": 6.238057,
     "end_time": "2025-03-20T07:20:06.174444",
     "exception": false,
     "start_time": "2025-03-20T07:19:59.936387",
     "status": "completed"
    },
    "tags": []
   },
   "outputs": [
    {
     "data": {
      "text/html": [
       "<style>#sk-container-id-1 {color: black;background-color: white;}#sk-container-id-1 pre{padding: 0;}#sk-container-id-1 div.sk-toggleable {background-color: white;}#sk-container-id-1 label.sk-toggleable__label {cursor: pointer;display: block;width: 100%;margin-bottom: 0;padding: 0.3em;box-sizing: border-box;text-align: center;}#sk-container-id-1 label.sk-toggleable__label-arrow:before {content: \"▸\";float: left;margin-right: 0.25em;color: #696969;}#sk-container-id-1 label.sk-toggleable__label-arrow:hover:before {color: black;}#sk-container-id-1 div.sk-estimator:hover label.sk-toggleable__label-arrow:before {color: black;}#sk-container-id-1 div.sk-toggleable__content {max-height: 0;max-width: 0;overflow: hidden;text-align: left;background-color: #f0f8ff;}#sk-container-id-1 div.sk-toggleable__content pre {margin: 0.2em;color: black;border-radius: 0.25em;background-color: #f0f8ff;}#sk-container-id-1 input.sk-toggleable__control:checked~div.sk-toggleable__content {max-height: 200px;max-width: 100%;overflow: auto;}#sk-container-id-1 input.sk-toggleable__control:checked~label.sk-toggleable__label-arrow:before {content: \"▾\";}#sk-container-id-1 div.sk-estimator input.sk-toggleable__control:checked~label.sk-toggleable__label {background-color: #d4ebff;}#sk-container-id-1 div.sk-label input.sk-toggleable__control:checked~label.sk-toggleable__label {background-color: #d4ebff;}#sk-container-id-1 input.sk-hidden--visually {border: 0;clip: rect(1px 1px 1px 1px);clip: rect(1px, 1px, 1px, 1px);height: 1px;margin: -1px;overflow: hidden;padding: 0;position: absolute;width: 1px;}#sk-container-id-1 div.sk-estimator {font-family: monospace;background-color: #f0f8ff;border: 1px dotted black;border-radius: 0.25em;box-sizing: border-box;margin-bottom: 0.5em;}#sk-container-id-1 div.sk-estimator:hover {background-color: #d4ebff;}#sk-container-id-1 div.sk-parallel-item::after {content: \"\";width: 100%;border-bottom: 1px solid gray;flex-grow: 1;}#sk-container-id-1 div.sk-label:hover label.sk-toggleable__label {background-color: #d4ebff;}#sk-container-id-1 div.sk-serial::before {content: \"\";position: absolute;border-left: 1px solid gray;box-sizing: border-box;top: 0;bottom: 0;left: 50%;z-index: 0;}#sk-container-id-1 div.sk-serial {display: flex;flex-direction: column;align-items: center;background-color: white;padding-right: 0.2em;padding-left: 0.2em;position: relative;}#sk-container-id-1 div.sk-item {position: relative;z-index: 1;}#sk-container-id-1 div.sk-parallel {display: flex;align-items: stretch;justify-content: center;background-color: white;position: relative;}#sk-container-id-1 div.sk-item::before, #sk-container-id-1 div.sk-parallel-item::before {content: \"\";position: absolute;border-left: 1px solid gray;box-sizing: border-box;top: 0;bottom: 0;left: 50%;z-index: -1;}#sk-container-id-1 div.sk-parallel-item {display: flex;flex-direction: column;z-index: 1;position: relative;background-color: white;}#sk-container-id-1 div.sk-parallel-item:first-child::after {align-self: flex-end;width: 50%;}#sk-container-id-1 div.sk-parallel-item:last-child::after {align-self: flex-start;width: 50%;}#sk-container-id-1 div.sk-parallel-item:only-child::after {width: 0;}#sk-container-id-1 div.sk-dashed-wrapped {border: 1px dashed gray;margin: 0 0.4em 0.5em 0.4em;box-sizing: border-box;padding-bottom: 0.4em;background-color: white;}#sk-container-id-1 div.sk-label label {font-family: monospace;font-weight: bold;display: inline-block;line-height: 1.2em;}#sk-container-id-1 div.sk-label-container {text-align: center;}#sk-container-id-1 div.sk-container {/* jupyter's `normalize.less` sets `[hidden] { display: none; }` but bootstrap.min.css set `[hidden] { display: none !important; }` so we also need the `!important` here to be able to override the default hidden behavior on the sphinx rendered scikit-learn.org. See: https://github.com/scikit-learn/scikit-learn/issues/21755 */display: inline-block !important;position: relative;}#sk-container-id-1 div.sk-text-repr-fallback {display: none;}</style><div id=\"sk-container-id-1\" class=\"sk-top-container\"><div class=\"sk-text-repr-fallback\"><pre>LinearRegression()</pre><b>In a Jupyter environment, please rerun this cell to show the HTML representation or trust the notebook. <br />On GitHub, the HTML representation is unable to render, please try loading this page with nbviewer.org.</b></div><div class=\"sk-container\" hidden><div class=\"sk-item\"><div class=\"sk-estimator sk-toggleable\"><input class=\"sk-toggleable__control sk-hidden--visually\" id=\"sk-estimator-id-1\" type=\"checkbox\" checked><label for=\"sk-estimator-id-1\" class=\"sk-toggleable__label sk-toggleable__label-arrow\">LinearRegression</label><div class=\"sk-toggleable__content\"><pre>LinearRegression()</pre></div></div></div></div></div>"
      ],
      "text/plain": [
       "LinearRegression()"
      ]
     },
     "execution_count": 30,
     "metadata": {},
     "output_type": "execute_result"
    }
   ],
   "source": [
    "from sklearn.model_selection import cross_val_score\n",
    "from sklearn.metrics import mean_squared_error\n",
    "from sklearn.linear_model import LinearRegression\n",
    "\n",
    "lr_model = LinearRegression()\n",
    "lr_model.fit(X_train, y_train)"
   ]
  },
  {
   "cell_type": "code",
   "execution_count": 31,
   "id": "3013730f",
   "metadata": {
    "execution": {
     "iopub.execute_input": "2025-03-20T07:20:06.205403Z",
     "iopub.status.busy": "2025-03-20T07:20:06.204914Z",
     "iopub.status.idle": "2025-03-20T07:20:09.585333Z",
     "shell.execute_reply": "2025-03-20T07:20:09.583893Z"
    },
    "papermill": {
     "duration": 3.39832,
     "end_time": "2025-03-20T07:20:09.587535",
     "exception": false,
     "start_time": "2025-03-20T07:20:06.189215",
     "status": "completed"
    },
    "tags": []
   },
   "outputs": [
    {
     "name": "stdout",
     "output_type": "stream",
     "text": [
      "[38.97792811 38.98149817 38.8803524 ]\n"
     ]
    }
   ],
   "source": [
    "cvs_lr = cross_val_score(lr_model, X_test, y_test, cv=3, scoring='neg_mean_squared_error')\n",
    "\n",
    "\n",
    "rmse = np.sqrt(-cvs_lr)\n",
    "print(rmse)"
   ]
  },
  {
   "cell_type": "code",
   "execution_count": 32,
   "id": "50dd84d4",
   "metadata": {
    "execution": {
     "iopub.execute_input": "2025-03-20T07:20:09.618567Z",
     "iopub.status.busy": "2025-03-20T07:20:09.618069Z",
     "iopub.status.idle": "2025-03-20T07:20:09.735737Z",
     "shell.execute_reply": "2025-03-20T07:20:09.734257Z"
    },
    "papermill": {
     "duration": 0.135873,
     "end_time": "2025-03-20T07:20:09.738182",
     "exception": false,
     "start_time": "2025-03-20T07:20:09.602309",
     "status": "completed"
    },
    "tags": []
   },
   "outputs": [
    {
     "data": {
      "text/plain": [
       "array([80.29735358, 81.05826749, 79.35779034, ..., 80.47538433,\n",
       "       78.89627911, 80.3281484 ])"
      ]
     },
     "execution_count": 32,
     "metadata": {},
     "output_type": "execute_result"
    }
   ],
   "source": [
    "lr_model.predict(X_test)"
   ]
  },
  {
   "cell_type": "code",
   "execution_count": 33,
   "id": "ba5f941c",
   "metadata": {
    "execution": {
     "iopub.execute_input": "2025-03-20T07:20:09.770462Z",
     "iopub.status.busy": "2025-03-20T07:20:09.769913Z",
     "iopub.status.idle": "2025-03-20T07:20:10.557930Z",
     "shell.execute_reply": "2025-03-20T07:20:10.556433Z"
    },
    "papermill": {
     "duration": 0.807132,
     "end_time": "2025-03-20T07:20:10.560556",
     "exception": false,
     "start_time": "2025-03-20T07:20:09.753424",
     "status": "completed"
    },
    "tags": []
   },
   "outputs": [],
   "source": [
    "clean_test_data = dataTreatment(test_data)\n",
    "clean_test_data[scale_cols] = scaler.transform(clean_test_data[scale_cols])"
   ]
  },
  {
   "cell_type": "code",
   "execution_count": 34,
   "id": "8ca80482",
   "metadata": {
    "execution": {
     "iopub.execute_input": "2025-03-20T07:20:10.594866Z",
     "iopub.status.busy": "2025-03-20T07:20:10.594411Z",
     "iopub.status.idle": "2025-03-20T07:20:10.610442Z",
     "shell.execute_reply": "2025-03-20T07:20:10.609130Z"
    },
    "papermill": {
     "duration": 0.034719,
     "end_time": "2025-03-20T07:20:10.612816",
     "exception": false,
     "start_time": "2025-03-20T07:20:10.578097",
     "status": "completed"
    },
    "tags": []
   },
   "outputs": [],
   "source": [
    "clean_test_data.drop('id', axis=1, inplace=True)"
   ]
  },
  {
   "cell_type": "code",
   "execution_count": 35,
   "id": "8641261f",
   "metadata": {
    "execution": {
     "iopub.execute_input": "2025-03-20T07:20:10.647724Z",
     "iopub.status.busy": "2025-03-20T07:20:10.647192Z",
     "iopub.status.idle": "2025-03-20T07:20:10.671769Z",
     "shell.execute_reply": "2025-03-20T07:20:10.670466Z"
    },
    "papermill": {
     "duration": 0.044834,
     "end_time": "2025-03-20T07:20:10.674423",
     "exception": false,
     "start_time": "2025-03-20T07:20:10.629589",
     "status": "completed"
    },
    "tags": []
   },
   "outputs": [],
   "source": [
    "predictions = lr_model.predict(clean_test_data)"
   ]
  },
  {
   "cell_type": "code",
   "execution_count": 36,
   "id": "de2e9870",
   "metadata": {
    "execution": {
     "iopub.execute_input": "2025-03-20T07:20:10.706793Z",
     "iopub.status.busy": "2025-03-20T07:20:10.706262Z",
     "iopub.status.idle": "2025-03-20T07:20:10.719729Z",
     "shell.execute_reply": "2025-03-20T07:20:10.718290Z"
    },
    "papermill": {
     "duration": 0.032376,
     "end_time": "2025-03-20T07:20:10.722069",
     "exception": false,
     "start_time": "2025-03-20T07:20:10.689693",
     "status": "completed"
    },
    "tags": []
   },
   "outputs": [
    {
     "data": {
      "text/html": [
       "<div>\n",
       "<style scoped>\n",
       "    .dataframe tbody tr th:only-of-type {\n",
       "        vertical-align: middle;\n",
       "    }\n",
       "\n",
       "    .dataframe tbody tr th {\n",
       "        vertical-align: top;\n",
       "    }\n",
       "\n",
       "    .dataframe thead th {\n",
       "        text-align: right;\n",
       "    }\n",
       "</style>\n",
       "<table border=\"1\" class=\"dataframe\">\n",
       "  <thead>\n",
       "    <tr style=\"text-align: right;\">\n",
       "      <th></th>\n",
       "      <th>id</th>\n",
       "      <th>Price</th>\n",
       "    </tr>\n",
       "  </thead>\n",
       "  <tbody>\n",
       "    <tr>\n",
       "      <th>0</th>\n",
       "      <td>300000</td>\n",
       "      <td>81.861697</td>\n",
       "    </tr>\n",
       "    <tr>\n",
       "      <th>1</th>\n",
       "      <td>300001</td>\n",
       "      <td>81.815939</td>\n",
       "    </tr>\n",
       "    <tr>\n",
       "      <th>2</th>\n",
       "      <td>300002</td>\n",
       "      <td>81.047333</td>\n",
       "    </tr>\n",
       "    <tr>\n",
       "      <th>3</th>\n",
       "      <td>300003</td>\n",
       "      <td>81.394936</td>\n",
       "    </tr>\n",
       "    <tr>\n",
       "      <th>4</th>\n",
       "      <td>300004</td>\n",
       "      <td>78.702890</td>\n",
       "    </tr>\n",
       "  </tbody>\n",
       "</table>\n",
       "</div>"
      ],
      "text/plain": [
       "       id      Price\n",
       "0  300000  81.861697\n",
       "1  300001  81.815939\n",
       "2  300002  81.047333\n",
       "3  300003  81.394936\n",
       "4  300004  78.702890"
      ]
     },
     "execution_count": 36,
     "metadata": {},
     "output_type": "execute_result"
    }
   ],
   "source": [
    "results_df = pd.DataFrame({\n",
    "    \"id\": test_data['id'],\n",
    "    \"Price\": predictions\n",
    "})\n",
    "\n",
    "results_df.head()"
   ]
  },
  {
   "cell_type": "code",
   "execution_count": 37,
   "id": "5e685803",
   "metadata": {
    "execution": {
     "iopub.execute_input": "2025-03-20T07:20:10.756083Z",
     "iopub.status.busy": "2025-03-20T07:20:10.755541Z",
     "iopub.status.idle": "2025-03-20T07:20:11.164389Z",
     "shell.execute_reply": "2025-03-20T07:20:11.163267Z"
    },
    "papermill": {
     "duration": 0.42826,
     "end_time": "2025-03-20T07:20:11.166807",
     "exception": false,
     "start_time": "2025-03-20T07:20:10.738547",
     "status": "completed"
    },
    "tags": []
   },
   "outputs": [],
   "source": [
    "results_df.to_csv(\"linear_reg_backpack.csv\", index=False)"
   ]
  }
 ],
 "metadata": {
  "kaggle": {
   "accelerator": "none",
   "dataSources": [
    {
     "databundleVersionId": 10995111,
     "sourceId": 90274,
     "sourceType": "competition"
    }
   ],
   "dockerImageVersionId": 30918,
   "isGpuEnabled": false,
   "isInternetEnabled": true,
   "language": "python",
   "sourceType": "notebook"
  },
  "kernelspec": {
   "display_name": "Python 3",
   "language": "python",
   "name": "python3"
  },
  "language_info": {
   "codemirror_mode": {
    "name": "ipython",
    "version": 3
   },
   "file_extension": ".py",
   "mimetype": "text/x-python",
   "name": "python",
   "nbconvert_exporter": "python",
   "pygments_lexer": "ipython3",
   "version": "3.10.12"
  },
  "papermill": {
   "default_parameters": {},
   "duration": 66.036892,
   "end_time": "2025-03-20T07:20:12.408818",
   "environment_variables": {},
   "exception": null,
   "input_path": "__notebook__.ipynb",
   "output_path": "__notebook__.ipynb",
   "parameters": {},
   "start_time": "2025-03-20T07:19:06.371926",
   "version": "2.6.0"
  }
 },
 "nbformat": 4,
 "nbformat_minor": 5
}
