{
 "cells": [
  {
   "cell_type": "code",
   "execution_count": 1,
   "id": "96663394",
   "metadata": {
    "_cell_guid": "b1076dfc-b9ad-4769-8c92-a6c4dae69d19",
    "_uuid": "8f2839f25d086af736a60e9eeb907d3b93b6e0e5",
    "execution": {
     "iopub.execute_input": "2025-03-27T08:00:48.209240Z",
     "iopub.status.busy": "2025-03-27T08:00:48.208878Z",
     "iopub.status.idle": "2025-03-27T08:00:49.363329Z",
     "shell.execute_reply": "2025-03-27T08:00:49.361854Z"
    },
    "papermill": {
     "duration": 1.164869,
     "end_time": "2025-03-27T08:00:49.365256",
     "exception": false,
     "start_time": "2025-03-27T08:00:48.200387",
     "status": "completed"
    },
    "tags": []
   },
   "outputs": [
    {
     "name": "stdout",
     "output_type": "stream",
     "text": [
      "/kaggle/input/playground-series-s4e12/sample_submission.csv\n",
      "/kaggle/input/playground-series-s4e12/train.csv\n",
      "/kaggle/input/playground-series-s4e12/test.csv\n"
     ]
    }
   ],
   "source": [
    "# This Python 3 environment comes with many helpful analytics libraries installed\n",
    "# It is defined by the kaggle/python Docker image: https://github.com/kaggle/docker-python\n",
    "# For example, here's several helpful packages to load\n",
    "\n",
    "import numpy as np # linear algebra\n",
    "import pandas as pd # data processing, CSV file I/O (e.g. pd.read_csv)\n",
    "\n",
    "# Input data files are available in the read-only \"../input/\" directory\n",
    "# For example, running this (by clicking run or pressing Shift+Enter) will list all files under the input directory\n",
    "\n",
    "import os\n",
    "for dirname, _, filenames in os.walk('/kaggle/input'):\n",
    "    for filename in filenames:\n",
    "        print(os.path.join(dirname, filename))\n",
    "\n",
    "# You can write up to 20GB to the current directory (/kaggle/working/) that gets preserved as output when you create a version using \"Save & Run All\" \n",
    "# You can also write temporary files to /kaggle/temp/, but they won't be saved outside of the current session"
   ]
  },
  {
   "cell_type": "code",
   "execution_count": 2,
   "id": "a721ccfa",
   "metadata": {
    "execution": {
     "iopub.execute_input": "2025-03-27T08:00:49.379147Z",
     "iopub.status.busy": "2025-03-27T08:00:49.378587Z",
     "iopub.status.idle": "2025-03-27T08:00:49.383383Z",
     "shell.execute_reply": "2025-03-27T08:00:49.382084Z"
    },
    "papermill": {
     "duration": 0.013644,
     "end_time": "2025-03-27T08:00:49.385272",
     "exception": false,
     "start_time": "2025-03-27T08:00:49.371628",
     "status": "completed"
    },
    "tags": []
   },
   "outputs": [],
   "source": [
    "import warnings\n",
    "warnings.filterwarnings(\"ignore\")"
   ]
  },
  {
   "cell_type": "code",
   "execution_count": 3,
   "id": "deaa99bf",
   "metadata": {
    "execution": {
     "iopub.execute_input": "2025-03-27T08:00:49.398850Z",
     "iopub.status.busy": "2025-03-27T08:00:49.398449Z",
     "iopub.status.idle": "2025-03-27T08:00:49.403044Z",
     "shell.execute_reply": "2025-03-27T08:00:49.401838Z"
    },
    "papermill": {
     "duration": 0.013445,
     "end_time": "2025-03-27T08:00:49.404982",
     "exception": false,
     "start_time": "2025-03-27T08:00:49.391537",
     "status": "completed"
    },
    "tags": []
   },
   "outputs": [],
   "source": [
    "train_file = \"/kaggle/input/playground-series-s4e12/train.csv\"\n",
    "test_file = \"/kaggle/input/playground-series-s4e12/test.csv\"\n",
    "subm_file = \"/kaggle/input/playground-series-s4e12/sample_submission.csv\""
   ]
  },
  {
   "cell_type": "code",
   "execution_count": 4,
   "id": "64bae3fc",
   "metadata": {
    "execution": {
     "iopub.execute_input": "2025-03-27T08:00:49.418667Z",
     "iopub.status.busy": "2025-03-27T08:00:49.418296Z",
     "iopub.status.idle": "2025-03-27T08:01:01.138067Z",
     "shell.execute_reply": "2025-03-27T08:01:01.136915Z"
    },
    "papermill": {
     "duration": 11.729469,
     "end_time": "2025-03-27T08:01:01.140566",
     "exception": false,
     "start_time": "2025-03-27T08:00:49.411097",
     "status": "completed"
    },
    "tags": []
   },
   "outputs": [],
   "source": [
    "train_data = pd.read_csv(train_file)\n",
    "test_data = pd.read_csv(test_file)\n",
    "sub_data = pd.read_csv(subm_file)"
   ]
  },
  {
   "cell_type": "code",
   "execution_count": 5,
   "id": "4179f709",
   "metadata": {
    "execution": {
     "iopub.execute_input": "2025-03-27T08:01:01.155504Z",
     "iopub.status.busy": "2025-03-27T08:01:01.155114Z",
     "iopub.status.idle": "2025-03-27T08:01:01.181800Z",
     "shell.execute_reply": "2025-03-27T08:01:01.180476Z"
    },
    "papermill": {
     "duration": 0.036434,
     "end_time": "2025-03-27T08:01:01.183762",
     "exception": false,
     "start_time": "2025-03-27T08:01:01.147328",
     "status": "completed"
    },
    "tags": []
   },
   "outputs": [
    {
     "data": {
      "text/html": [
       "<div>\n",
       "<style scoped>\n",
       "    .dataframe tbody tr th:only-of-type {\n",
       "        vertical-align: middle;\n",
       "    }\n",
       "\n",
       "    .dataframe tbody tr th {\n",
       "        vertical-align: top;\n",
       "    }\n",
       "\n",
       "    .dataframe thead th {\n",
       "        text-align: right;\n",
       "    }\n",
       "</style>\n",
       "<table border=\"1\" class=\"dataframe\">\n",
       "  <thead>\n",
       "    <tr style=\"text-align: right;\">\n",
       "      <th></th>\n",
       "      <th>id</th>\n",
       "      <th>Premium Amount</th>\n",
       "    </tr>\n",
       "  </thead>\n",
       "  <tbody>\n",
       "    <tr>\n",
       "      <th>0</th>\n",
       "      <td>1200000</td>\n",
       "      <td>1102.545</td>\n",
       "    </tr>\n",
       "    <tr>\n",
       "      <th>1</th>\n",
       "      <td>1200001</td>\n",
       "      <td>1102.545</td>\n",
       "    </tr>\n",
       "    <tr>\n",
       "      <th>2</th>\n",
       "      <td>1200002</td>\n",
       "      <td>1102.545</td>\n",
       "    </tr>\n",
       "    <tr>\n",
       "      <th>3</th>\n",
       "      <td>1200003</td>\n",
       "      <td>1102.545</td>\n",
       "    </tr>\n",
       "    <tr>\n",
       "      <th>4</th>\n",
       "      <td>1200004</td>\n",
       "      <td>1102.545</td>\n",
       "    </tr>\n",
       "  </tbody>\n",
       "</table>\n",
       "</div>"
      ],
      "text/plain": [
       "        id  Premium Amount\n",
       "0  1200000        1102.545\n",
       "1  1200001        1102.545\n",
       "2  1200002        1102.545\n",
       "3  1200003        1102.545\n",
       "4  1200004        1102.545"
      ]
     },
     "execution_count": 5,
     "metadata": {},
     "output_type": "execute_result"
    }
   ],
   "source": [
    "sub_data.head()"
   ]
  },
  {
   "cell_type": "code",
   "execution_count": 6,
   "id": "30723b86",
   "metadata": {
    "execution": {
     "iopub.execute_input": "2025-03-27T08:01:01.198459Z",
     "iopub.status.busy": "2025-03-27T08:01:01.198105Z",
     "iopub.status.idle": "2025-03-27T08:01:01.204492Z",
     "shell.execute_reply": "2025-03-27T08:01:01.203340Z"
    },
    "papermill": {
     "duration": 0.016044,
     "end_time": "2025-03-27T08:01:01.206243",
     "exception": false,
     "start_time": "2025-03-27T08:01:01.190199",
     "status": "completed"
    },
    "tags": []
   },
   "outputs": [
    {
     "data": {
      "text/plain": [
       "(1200000, 21)"
      ]
     },
     "execution_count": 6,
     "metadata": {},
     "output_type": "execute_result"
    }
   ],
   "source": [
    "train_data.shape\n"
   ]
  },
  {
   "cell_type": "code",
   "execution_count": 7,
   "id": "bf752cf5",
   "metadata": {
    "execution": {
     "iopub.execute_input": "2025-03-27T08:01:01.220798Z",
     "iopub.status.busy": "2025-03-27T08:01:01.220433Z",
     "iopub.status.idle": "2025-03-27T08:01:01.930634Z",
     "shell.execute_reply": "2025-03-27T08:01:01.929218Z"
    },
    "papermill": {
     "duration": 0.719667,
     "end_time": "2025-03-27T08:01:01.932593",
     "exception": false,
     "start_time": "2025-03-27T08:01:01.212926",
     "status": "completed"
    },
    "tags": []
   },
   "outputs": [
    {
     "name": "stdout",
     "output_type": "stream",
     "text": [
      "<class 'pandas.core.frame.DataFrame'>\n",
      "RangeIndex: 1200000 entries, 0 to 1199999\n",
      "Data columns (total 21 columns):\n",
      " #   Column                Non-Null Count    Dtype  \n",
      "---  ------                --------------    -----  \n",
      " 0   id                    1200000 non-null  int64  \n",
      " 1   Age                   1181295 non-null  float64\n",
      " 2   Gender                1200000 non-null  object \n",
      " 3   Annual Income         1155051 non-null  float64\n",
      " 4   Marital Status        1181471 non-null  object \n",
      " 5   Number of Dependents  1090328 non-null  float64\n",
      " 6   Education Level       1200000 non-null  object \n",
      " 7   Occupation            841925 non-null   object \n",
      " 8   Health Score          1125924 non-null  float64\n",
      " 9   Location              1200000 non-null  object \n",
      " 10  Policy Type           1200000 non-null  object \n",
      " 11  Previous Claims       835971 non-null   float64\n",
      " 12  Vehicle Age           1199994 non-null  float64\n",
      " 13  Credit Score          1062118 non-null  float64\n",
      " 14  Insurance Duration    1199999 non-null  float64\n",
      " 15  Policy Start Date     1200000 non-null  object \n",
      " 16  Customer Feedback     1122176 non-null  object \n",
      " 17  Smoking Status        1200000 non-null  object \n",
      " 18  Exercise Frequency    1200000 non-null  object \n",
      " 19  Property Type         1200000 non-null  object \n",
      " 20  Premium Amount        1200000 non-null  float64\n",
      "dtypes: float64(9), int64(1), object(11)\n",
      "memory usage: 192.3+ MB\n"
     ]
    }
   ],
   "source": [
    "train_data.info()"
   ]
  },
  {
   "cell_type": "code",
   "execution_count": 8,
   "id": "d3705abb",
   "metadata": {
    "execution": {
     "iopub.execute_input": "2025-03-27T08:01:01.947736Z",
     "iopub.status.busy": "2025-03-27T08:01:01.947342Z",
     "iopub.status.idle": "2025-03-27T08:01:02.652575Z",
     "shell.execute_reply": "2025-03-27T08:01:02.651476Z"
    },
    "papermill": {
     "duration": 0.715113,
     "end_time": "2025-03-27T08:01:02.654768",
     "exception": false,
     "start_time": "2025-03-27T08:01:01.939655",
     "status": "completed"
    },
    "tags": []
   },
   "outputs": [
    {
     "data": {
      "text/plain": [
       "Previous Claims         30.335750\n",
       "Occupation              29.839583\n",
       "Credit Score            11.490167\n",
       "Number of Dependents     9.139333\n",
       "Customer Feedback        6.485333\n",
       "Health Score             6.173000\n",
       "Annual Income            3.745750\n",
       "Age                      1.558750\n",
       "Marital Status           1.544083\n",
       "Vehicle Age              0.000500\n",
       "Insurance Duration       0.000083\n",
       "id                       0.000000\n",
       "Property Type            0.000000\n",
       "Exercise Frequency       0.000000\n",
       "Smoking Status           0.000000\n",
       "Policy Type              0.000000\n",
       "Policy Start Date        0.000000\n",
       "Location                 0.000000\n",
       "Education Level          0.000000\n",
       "Gender                   0.000000\n",
       "Premium Amount           0.000000\n",
       "dtype: float64"
      ]
     },
     "execution_count": 8,
     "metadata": {},
     "output_type": "execute_result"
    }
   ],
   "source": [
    "(train_data.isnull().mean()*100).sort_values(ascending=False)"
   ]
  },
  {
   "cell_type": "code",
   "execution_count": 9,
   "id": "8f63422a",
   "metadata": {
    "execution": {
     "iopub.execute_input": "2025-03-27T08:01:02.670123Z",
     "iopub.status.busy": "2025-03-27T08:01:02.669751Z",
     "iopub.status.idle": "2025-03-27T08:01:03.896917Z",
     "shell.execute_reply": "2025-03-27T08:01:03.895573Z"
    },
    "papermill": {
     "duration": 1.237044,
     "end_time": "2025-03-27T08:01:03.898930",
     "exception": false,
     "start_time": "2025-03-27T08:01:02.661886",
     "status": "completed"
    },
    "tags": []
   },
   "outputs": [
    {
     "data": {
      "text/plain": [
       "(['id',\n",
       "  'Age',\n",
       "  'Annual Income',\n",
       "  'Number of Dependents',\n",
       "  'Health Score',\n",
       "  'Previous Claims',\n",
       "  'Vehicle Age',\n",
       "  'Credit Score',\n",
       "  'Insurance Duration',\n",
       "  'Premium Amount'],\n",
       " ['Gender',\n",
       "  'Marital Status',\n",
       "  'Education Level',\n",
       "  'Occupation',\n",
       "  'Location',\n",
       "  'Policy Type',\n",
       "  'Customer Feedback',\n",
       "  'Smoking Status',\n",
       "  'Exercise Frequency',\n",
       "  'Property Type'],\n",
       " ['Policy Start Date'])"
      ]
     },
     "execution_count": 9,
     "metadata": {},
     "output_type": "execute_result"
    }
   ],
   "source": [
    "# segregate columns\n",
    "\n",
    "train_data['Policy Start Date'] = train_data['Policy Start Date'].astype('datetime64[ns]')\n",
    "\n",
    "obj_cols = train_data.select_dtypes(include=\"object\").columns.to_list()\n",
    "num_cols = train_data.select_dtypes(include=['int64','float64']).columns.to_list()\n",
    "date_cols = ['Policy Start Date']\n",
    "\n",
    "num_cols, obj_cols , date_cols"
   ]
  },
  {
   "cell_type": "code",
   "execution_count": 10,
   "id": "347a3e7c",
   "metadata": {
    "execution": {
     "iopub.execute_input": "2025-03-27T08:01:03.914279Z",
     "iopub.status.busy": "2025-03-27T08:01:03.913898Z",
     "iopub.status.idle": "2025-03-27T08:01:03.919298Z",
     "shell.execute_reply": "2025-03-27T08:01:03.918112Z"
    },
    "papermill": {
     "duration": 0.015275,
     "end_time": "2025-03-27T08:01:03.921236",
     "exception": false,
     "start_time": "2025-03-27T08:01:03.905961",
     "status": "completed"
    },
    "tags": []
   },
   "outputs": [],
   "source": [
    "pd.set_option('display.float_format', '{:.2f}'.format)"
   ]
  },
  {
   "cell_type": "code",
   "execution_count": 11,
   "id": "4dc7d237",
   "metadata": {
    "execution": {
     "iopub.execute_input": "2025-03-27T08:01:03.937034Z",
     "iopub.status.busy": "2025-03-27T08:01:03.936617Z",
     "iopub.status.idle": "2025-03-27T08:01:03.944353Z",
     "shell.execute_reply": "2025-03-27T08:01:03.943128Z"
    },
    "papermill": {
     "duration": 0.017864,
     "end_time": "2025-03-27T08:01:03.946419",
     "exception": false,
     "start_time": "2025-03-27T08:01:03.928555",
     "status": "completed"
    },
    "tags": []
   },
   "outputs": [],
   "source": [
    "# fillna with median values for numerical columns\n",
    "\n",
    "def dataTreatmentNumericalCols(inp_dataframe):\n",
    "    data = inp_dataframe.copy()\n",
    "    for col in num_cols:\n",
    "        data[col] = pd.to_numeric(data[col], errors='coerce')\n",
    "        median_age = data[col].median\n",
    "        data[col] = data[col].fillna(median_age)\n",
    "    return data\n",
    "\n",
    "def dataTreatmentCategoryCols(inp_dataframe):\n",
    "    data = inp_dataframe.copy()\n",
    "    for col in obj_cols:\n",
    "        mode_val = data[col].mode()[0]\n",
    "        data[col] = data[col].fillna(mode_val)\n",
    "    return data\n",
    "\n",
    "def dataTreatmentGetDummies(inp_dataframe):\n",
    "    data = inp_dataframe.copy()\n",
    "    for col in obj_cols:\n",
    "        dummies = pd.get_dummies(data[col], drop_first=True, dtype=\"int\", prefix=col)\n",
    "        data = pd.concat([data, dummies], axis=1)\n",
    "        data.drop(columns=[col], axis=1, inplace=True)\n",
    "    return data\n"
   ]
  },
  {
   "cell_type": "code",
   "execution_count": 12,
   "id": "9441fccf",
   "metadata": {
    "execution": {
     "iopub.execute_input": "2025-03-27T08:01:03.962853Z",
     "iopub.status.busy": "2025-03-27T08:01:03.962461Z",
     "iopub.status.idle": "2025-03-27T08:01:04.226145Z",
     "shell.execute_reply": "2025-03-27T08:01:04.224943Z"
    },
    "papermill": {
     "duration": 0.273877,
     "end_time": "2025-03-27T08:01:04.228188",
     "exception": false,
     "start_time": "2025-03-27T08:01:03.954311",
     "status": "completed"
    },
    "tags": []
   },
   "outputs": [],
   "source": [
    "# filling missing values with median values for numerical columns\n",
    "\n",
    "train_data['Age'] = train_data['Age'].fillna(train_data['Age'].median())\n",
    "train_data['Annual Income'] = train_data['Annual Income'].fillna(train_data['Annual Income'].median())\n",
    "train_data['Number of Dependents'] = train_data['Number of Dependents'].fillna(train_data['Number of Dependents'].median())\n",
    "train_data['Health Score'] = train_data['Health Score'].fillna(train_data['Health Score'].median())\n",
    "train_data['Previous Claims'] = train_data['Previous Claims'].fillna(train_data['Previous Claims'].median())\n",
    "train_data['Vehicle Age'] = train_data['Vehicle Age'].fillna(train_data['Vehicle Age'].median())\n",
    "train_data['Credit Score'] = train_data['Credit Score'].fillna(train_data['Credit Score'].median())\n",
    "train_data['Insurance Duration'] = train_data['Insurance Duration'].fillna(train_data['Insurance Duration'].median())\n",
    "train_data['Premium Amount'] = train_data['Premium Amount'].fillna(train_data['Premium Amount'].median())"
   ]
  },
  {
   "cell_type": "code",
   "execution_count": 13,
   "id": "66d6ba9e",
   "metadata": {
    "execution": {
     "iopub.execute_input": "2025-03-27T08:01:04.243767Z",
     "iopub.status.busy": "2025-03-27T08:01:04.243397Z",
     "iopub.status.idle": "2025-03-27T08:01:04.961495Z",
     "shell.execute_reply": "2025-03-27T08:01:04.960170Z"
    },
    "papermill": {
     "duration": 0.728112,
     "end_time": "2025-03-27T08:01:04.963427",
     "exception": false,
     "start_time": "2025-03-27T08:01:04.235315",
     "status": "completed"
    },
    "tags": []
   },
   "outputs": [
    {
     "data": {
      "text/html": [
       "<div>\n",
       "<style scoped>\n",
       "    .dataframe tbody tr th:only-of-type {\n",
       "        vertical-align: middle;\n",
       "    }\n",
       "\n",
       "    .dataframe tbody tr th {\n",
       "        vertical-align: top;\n",
       "    }\n",
       "\n",
       "    .dataframe thead th {\n",
       "        text-align: right;\n",
       "    }\n",
       "</style>\n",
       "<table border=\"1\" class=\"dataframe\">\n",
       "  <thead>\n",
       "    <tr style=\"text-align: right;\">\n",
       "      <th></th>\n",
       "      <th>id</th>\n",
       "      <th>Age</th>\n",
       "      <th>Annual Income</th>\n",
       "      <th>Number of Dependents</th>\n",
       "      <th>Health Score</th>\n",
       "      <th>Previous Claims</th>\n",
       "      <th>Vehicle Age</th>\n",
       "      <th>Credit Score</th>\n",
       "      <th>Insurance Duration</th>\n",
       "      <th>Premium Amount</th>\n",
       "    </tr>\n",
       "  </thead>\n",
       "  <tbody>\n",
       "    <tr>\n",
       "      <th>count</th>\n",
       "      <td>1200000.00</td>\n",
       "      <td>1200000.00</td>\n",
       "      <td>1200000.00</td>\n",
       "      <td>1200000.00</td>\n",
       "      <td>1200000.00</td>\n",
       "      <td>1200000.00</td>\n",
       "      <td>1200000.00</td>\n",
       "      <td>1200000.00</td>\n",
       "      <td>1200000.00</td>\n",
       "      <td>1200000.00</td>\n",
       "    </tr>\n",
       "    <tr>\n",
       "      <th>mean</th>\n",
       "      <td>599999.50</td>\n",
       "      <td>41.14</td>\n",
       "      <td>32414.31</td>\n",
       "      <td>2.01</td>\n",
       "      <td>25.55</td>\n",
       "      <td>1.00</td>\n",
       "      <td>9.57</td>\n",
       "      <td>593.16</td>\n",
       "      <td>5.02</td>\n",
       "      <td>1102.54</td>\n",
       "    </tr>\n",
       "    <tr>\n",
       "      <th>std</th>\n",
       "      <td>346410.31</td>\n",
       "      <td>13.43</td>\n",
       "      <td>31615.60</td>\n",
       "      <td>1.35</td>\n",
       "      <td>11.82</td>\n",
       "      <td>0.82</td>\n",
       "      <td>5.78</td>\n",
       "      <td>141.10</td>\n",
       "      <td>2.59</td>\n",
       "      <td>865.00</td>\n",
       "    </tr>\n",
       "    <tr>\n",
       "      <th>min</th>\n",
       "      <td>0.00</td>\n",
       "      <td>18.00</td>\n",
       "      <td>1.00</td>\n",
       "      <td>0.00</td>\n",
       "      <td>2.01</td>\n",
       "      <td>0.00</td>\n",
       "      <td>0.00</td>\n",
       "      <td>300.00</td>\n",
       "      <td>1.00</td>\n",
       "      <td>20.00</td>\n",
       "    </tr>\n",
       "    <tr>\n",
       "      <th>25%</th>\n",
       "      <td>299999.75</td>\n",
       "      <td>30.00</td>\n",
       "      <td>8646.00</td>\n",
       "      <td>1.00</td>\n",
       "      <td>16.55</td>\n",
       "      <td>0.00</td>\n",
       "      <td>5.00</td>\n",
       "      <td>484.00</td>\n",
       "      <td>3.00</td>\n",
       "      <td>514.00</td>\n",
       "    </tr>\n",
       "    <tr>\n",
       "      <th>50%</th>\n",
       "      <td>599999.50</td>\n",
       "      <td>41.00</td>\n",
       "      <td>23911.00</td>\n",
       "      <td>2.00</td>\n",
       "      <td>24.58</td>\n",
       "      <td>1.00</td>\n",
       "      <td>10.00</td>\n",
       "      <td>595.00</td>\n",
       "      <td>5.00</td>\n",
       "      <td>872.00</td>\n",
       "    </tr>\n",
       "    <tr>\n",
       "      <th>75%</th>\n",
       "      <td>899999.25</td>\n",
       "      <td>53.00</td>\n",
       "      <td>43936.00</td>\n",
       "      <td>3.00</td>\n",
       "      <td>33.77</td>\n",
       "      <td>1.00</td>\n",
       "      <td>15.00</td>\n",
       "      <td>706.00</td>\n",
       "      <td>7.00</td>\n",
       "      <td>1509.00</td>\n",
       "    </tr>\n",
       "    <tr>\n",
       "      <th>max</th>\n",
       "      <td>1199999.00</td>\n",
       "      <td>64.00</td>\n",
       "      <td>149997.00</td>\n",
       "      <td>4.00</td>\n",
       "      <td>58.98</td>\n",
       "      <td>9.00</td>\n",
       "      <td>19.00</td>\n",
       "      <td>849.00</td>\n",
       "      <td>9.00</td>\n",
       "      <td>4999.00</td>\n",
       "    </tr>\n",
       "  </tbody>\n",
       "</table>\n",
       "</div>"
      ],
      "text/plain": [
       "              id        Age  Annual Income  Number of Dependents  \\\n",
       "count 1200000.00 1200000.00     1200000.00            1200000.00   \n",
       "mean   599999.50      41.14       32414.31                  2.01   \n",
       "std    346410.31      13.43       31615.60                  1.35   \n",
       "min         0.00      18.00           1.00                  0.00   \n",
       "25%    299999.75      30.00        8646.00                  1.00   \n",
       "50%    599999.50      41.00       23911.00                  2.00   \n",
       "75%    899999.25      53.00       43936.00                  3.00   \n",
       "max   1199999.00      64.00      149997.00                  4.00   \n",
       "\n",
       "       Health Score  Previous Claims  Vehicle Age  Credit Score  \\\n",
       "count    1200000.00       1200000.00   1200000.00    1200000.00   \n",
       "mean          25.55             1.00         9.57        593.16   \n",
       "std           11.82             0.82         5.78        141.10   \n",
       "min            2.01             0.00         0.00        300.00   \n",
       "25%           16.55             0.00         5.00        484.00   \n",
       "50%           24.58             1.00        10.00        595.00   \n",
       "75%           33.77             1.00        15.00        706.00   \n",
       "max           58.98             9.00        19.00        849.00   \n",
       "\n",
       "       Insurance Duration  Premium Amount  \n",
       "count          1200000.00      1200000.00  \n",
       "mean                 5.02         1102.54  \n",
       "std                  2.59          865.00  \n",
       "min                  1.00           20.00  \n",
       "25%                  3.00          514.00  \n",
       "50%                  5.00          872.00  \n",
       "75%                  7.00         1509.00  \n",
       "max                  9.00         4999.00  "
      ]
     },
     "execution_count": 13,
     "metadata": {},
     "output_type": "execute_result"
    }
   ],
   "source": [
    "train_data[num_cols].describe()"
   ]
  },
  {
   "cell_type": "code",
   "execution_count": 14,
   "id": "a55fac9d",
   "metadata": {
    "execution": {
     "iopub.execute_input": "2025-03-27T08:01:04.980238Z",
     "iopub.status.busy": "2025-03-27T08:01:04.979879Z",
     "iopub.status.idle": "2025-03-27T08:01:05.712424Z",
     "shell.execute_reply": "2025-03-27T08:01:05.711391Z"
    },
    "papermill": {
     "duration": 0.743556,
     "end_time": "2025-03-27T08:01:05.714357",
     "exception": false,
     "start_time": "2025-03-27T08:01:04.970801",
     "status": "completed"
    },
    "tags": []
   },
   "outputs": [
    {
     "data": {
      "text/plain": [
       "Gender                2\n",
       "Smoking Status        2\n",
       "Marital Status        3\n",
       "Occupation            3\n",
       "Location              3\n",
       "Policy Type           3\n",
       "Customer Feedback     3\n",
       "Property Type         3\n",
       "Education Level       4\n",
       "Exercise Frequency    4\n",
       "dtype: int64"
      ]
     },
     "execution_count": 14,
     "metadata": {},
     "output_type": "execute_result"
    }
   ],
   "source": [
    "train_data[obj_cols].nunique().sort_values(ascending=True)"
   ]
  },
  {
   "cell_type": "code",
   "execution_count": 15,
   "id": "1c9040b8",
   "metadata": {
    "execution": {
     "iopub.execute_input": "2025-03-27T08:01:05.730504Z",
     "iopub.status.busy": "2025-03-27T08:01:05.730131Z",
     "iopub.status.idle": "2025-03-27T08:01:09.912769Z",
     "shell.execute_reply": "2025-03-27T08:01:09.911708Z"
    },
    "papermill": {
     "duration": 4.192958,
     "end_time": "2025-03-27T08:01:09.914860",
     "exception": false,
     "start_time": "2025-03-27T08:01:05.721902",
     "status": "completed"
    },
    "tags": []
   },
   "outputs": [],
   "source": [
    "# use label encoder to label categorical columns\n",
    "\n",
    "from sklearn.preprocessing import LabelEncoder\n",
    "\n",
    "le = LabelEncoder()\n",
    "for col in obj_cols:\n",
    "    train_data[col] = le.fit_transform(train_data[col])\n"
   ]
  },
  {
   "cell_type": "code",
   "execution_count": 16,
   "id": "c60b89bb",
   "metadata": {
    "execution": {
     "iopub.execute_input": "2025-03-27T08:01:09.931526Z",
     "iopub.status.busy": "2025-03-27T08:01:09.930886Z",
     "iopub.status.idle": "2025-03-27T08:01:10.012934Z",
     "shell.execute_reply": "2025-03-27T08:01:10.011475Z"
    },
    "papermill": {
     "duration": 0.09221,
     "end_time": "2025-03-27T08:01:10.014768",
     "exception": false,
     "start_time": "2025-03-27T08:01:09.922558",
     "status": "completed"
    },
    "tags": []
   },
   "outputs": [
    {
     "name": "stdout",
     "output_type": "stream",
     "text": [
      "<class 'pandas.core.frame.DataFrame'>\n",
      "RangeIndex: 1200000 entries, 0 to 1199999\n",
      "Data columns (total 21 columns):\n",
      " #   Column                Non-Null Count    Dtype         \n",
      "---  ------                --------------    -----         \n",
      " 0   id                    1200000 non-null  int64         \n",
      " 1   Age                   1200000 non-null  float64       \n",
      " 2   Gender                1200000 non-null  int64         \n",
      " 3   Annual Income         1200000 non-null  float64       \n",
      " 4   Marital Status        1200000 non-null  int64         \n",
      " 5   Number of Dependents  1200000 non-null  float64       \n",
      " 6   Education Level       1200000 non-null  int64         \n",
      " 7   Occupation            1200000 non-null  int64         \n",
      " 8   Health Score          1200000 non-null  float64       \n",
      " 9   Location              1200000 non-null  int64         \n",
      " 10  Policy Type           1200000 non-null  int64         \n",
      " 11  Previous Claims       1200000 non-null  float64       \n",
      " 12  Vehicle Age           1200000 non-null  float64       \n",
      " 13  Credit Score          1200000 non-null  float64       \n",
      " 14  Insurance Duration    1200000 non-null  float64       \n",
      " 15  Policy Start Date     1200000 non-null  datetime64[ns]\n",
      " 16  Customer Feedback     1200000 non-null  int64         \n",
      " 17  Smoking Status        1200000 non-null  int64         \n",
      " 18  Exercise Frequency    1200000 non-null  int64         \n",
      " 19  Property Type         1200000 non-null  int64         \n",
      " 20  Premium Amount        1200000 non-null  float64       \n",
      "dtypes: datetime64[ns](1), float64(9), int64(11)\n",
      "memory usage: 192.3 MB\n"
     ]
    }
   ],
   "source": [
    "train_data.info()"
   ]
  },
  {
   "cell_type": "code",
   "execution_count": 17,
   "id": "bf948cbe",
   "metadata": {
    "execution": {
     "iopub.execute_input": "2025-03-27T08:01:10.030860Z",
     "iopub.status.busy": "2025-03-27T08:01:10.030459Z",
     "iopub.status.idle": "2025-03-27T08:01:11.187861Z",
     "shell.execute_reply": "2025-03-27T08:01:11.186705Z"
    },
    "papermill": {
     "duration": 1.16727,
     "end_time": "2025-03-27T08:01:11.189522",
     "exception": false,
     "start_time": "2025-03-27T08:01:10.022252",
     "status": "completed"
    },
    "tags": []
   },
   "outputs": [
    {
     "data": {
      "text/html": [
       "<div>\n",
       "<style scoped>\n",
       "    .dataframe tbody tr th:only-of-type {\n",
       "        vertical-align: middle;\n",
       "    }\n",
       "\n",
       "    .dataframe tbody tr th {\n",
       "        vertical-align: top;\n",
       "    }\n",
       "\n",
       "    .dataframe thead th {\n",
       "        text-align: right;\n",
       "    }\n",
       "</style>\n",
       "<table border=\"1\" class=\"dataframe\">\n",
       "  <thead>\n",
       "    <tr style=\"text-align: right;\">\n",
       "      <th></th>\n",
       "      <th>id</th>\n",
       "      <th>Age</th>\n",
       "      <th>Gender</th>\n",
       "      <th>Annual Income</th>\n",
       "      <th>Marital Status</th>\n",
       "      <th>Number of Dependents</th>\n",
       "      <th>Education Level</th>\n",
       "      <th>Occupation</th>\n",
       "      <th>Health Score</th>\n",
       "      <th>Location</th>\n",
       "      <th>...</th>\n",
       "      <th>Previous Claims</th>\n",
       "      <th>Vehicle Age</th>\n",
       "      <th>Credit Score</th>\n",
       "      <th>Insurance Duration</th>\n",
       "      <th>Policy Start Date</th>\n",
       "      <th>Customer Feedback</th>\n",
       "      <th>Smoking Status</th>\n",
       "      <th>Exercise Frequency</th>\n",
       "      <th>Property Type</th>\n",
       "      <th>Premium Amount</th>\n",
       "    </tr>\n",
       "  </thead>\n",
       "  <tbody>\n",
       "    <tr>\n",
       "      <th>count</th>\n",
       "      <td>1200000.00</td>\n",
       "      <td>1200000.00</td>\n",
       "      <td>1200000.00</td>\n",
       "      <td>1200000.00</td>\n",
       "      <td>1200000.00</td>\n",
       "      <td>1200000.00</td>\n",
       "      <td>1200000.00</td>\n",
       "      <td>1200000.00</td>\n",
       "      <td>1200000.00</td>\n",
       "      <td>1200000.00</td>\n",
       "      <td>...</td>\n",
       "      <td>1200000.00</td>\n",
       "      <td>1200000.00</td>\n",
       "      <td>1200000.00</td>\n",
       "      <td>1200000.00</td>\n",
       "      <td>1200000</td>\n",
       "      <td>1200000.00</td>\n",
       "      <td>1200000.00</td>\n",
       "      <td>1200000.00</td>\n",
       "      <td>1200000.00</td>\n",
       "      <td>1200000.00</td>\n",
       "    </tr>\n",
       "    <tr>\n",
       "      <th>mean</th>\n",
       "      <td>599999.50</td>\n",
       "      <td>41.14</td>\n",
       "      <td>0.50</td>\n",
       "      <td>32414.31</td>\n",
       "      <td>1.03</td>\n",
       "      <td>2.01</td>\n",
       "      <td>1.51</td>\n",
       "      <td>1.59</td>\n",
       "      <td>25.55</td>\n",
       "      <td>1.00</td>\n",
       "      <td>...</td>\n",
       "      <td>1.00</td>\n",
       "      <td>9.57</td>\n",
       "      <td>593.16</td>\n",
       "      <td>5.02</td>\n",
       "      <td>2022-02-13 05:06:30.972380416</td>\n",
       "      <td>1.13</td>\n",
       "      <td>0.50</td>\n",
       "      <td>1.51</td>\n",
       "      <td>1.00</td>\n",
       "      <td>1102.54</td>\n",
       "    </tr>\n",
       "    <tr>\n",
       "      <th>min</th>\n",
       "      <td>0.00</td>\n",
       "      <td>18.00</td>\n",
       "      <td>0.00</td>\n",
       "      <td>1.00</td>\n",
       "      <td>0.00</td>\n",
       "      <td>0.00</td>\n",
       "      <td>0.00</td>\n",
       "      <td>0.00</td>\n",
       "      <td>2.01</td>\n",
       "      <td>0.00</td>\n",
       "      <td>...</td>\n",
       "      <td>0.00</td>\n",
       "      <td>0.00</td>\n",
       "      <td>300.00</td>\n",
       "      <td>1.00</td>\n",
       "      <td>2019-08-17 15:21:39.080371</td>\n",
       "      <td>0.00</td>\n",
       "      <td>0.00</td>\n",
       "      <td>0.00</td>\n",
       "      <td>0.00</td>\n",
       "      <td>20.00</td>\n",
       "    </tr>\n",
       "    <tr>\n",
       "      <th>25%</th>\n",
       "      <td>299999.75</td>\n",
       "      <td>30.00</td>\n",
       "      <td>0.00</td>\n",
       "      <td>8646.00</td>\n",
       "      <td>0.00</td>\n",
       "      <td>1.00</td>\n",
       "      <td>0.00</td>\n",
       "      <td>1.00</td>\n",
       "      <td>16.55</td>\n",
       "      <td>0.00</td>\n",
       "      <td>...</td>\n",
       "      <td>0.00</td>\n",
       "      <td>5.00</td>\n",
       "      <td>484.00</td>\n",
       "      <td>3.00</td>\n",
       "      <td>2020-11-20 15:21:39.121168896</td>\n",
       "      <td>0.00</td>\n",
       "      <td>0.00</td>\n",
       "      <td>1.00</td>\n",
       "      <td>0.00</td>\n",
       "      <td>514.00</td>\n",
       "    </tr>\n",
       "    <tr>\n",
       "      <th>50%</th>\n",
       "      <td>599999.50</td>\n",
       "      <td>41.00</td>\n",
       "      <td>1.00</td>\n",
       "      <td>23911.00</td>\n",
       "      <td>1.00</td>\n",
       "      <td>2.00</td>\n",
       "      <td>2.00</td>\n",
       "      <td>2.00</td>\n",
       "      <td>24.58</td>\n",
       "      <td>1.00</td>\n",
       "      <td>...</td>\n",
       "      <td>1.00</td>\n",
       "      <td>10.00</td>\n",
       "      <td>595.00</td>\n",
       "      <td>5.00</td>\n",
       "      <td>2022-02-14 15:21:39.151731968</td>\n",
       "      <td>1.00</td>\n",
       "      <td>1.00</td>\n",
       "      <td>2.00</td>\n",
       "      <td>1.00</td>\n",
       "      <td>872.00</td>\n",
       "    </tr>\n",
       "    <tr>\n",
       "      <th>75%</th>\n",
       "      <td>899999.25</td>\n",
       "      <td>53.00</td>\n",
       "      <td>1.00</td>\n",
       "      <td>43936.00</td>\n",
       "      <td>2.00</td>\n",
       "      <td>3.00</td>\n",
       "      <td>3.00</td>\n",
       "      <td>3.00</td>\n",
       "      <td>33.77</td>\n",
       "      <td>2.00</td>\n",
       "      <td>...</td>\n",
       "      <td>1.00</td>\n",
       "      <td>15.00</td>\n",
       "      <td>706.00</td>\n",
       "      <td>7.00</td>\n",
       "      <td>2023-05-06 15:21:39.182597120</td>\n",
       "      <td>2.00</td>\n",
       "      <td>1.00</td>\n",
       "      <td>3.00</td>\n",
       "      <td>2.00</td>\n",
       "      <td>1509.00</td>\n",
       "    </tr>\n",
       "    <tr>\n",
       "      <th>max</th>\n",
       "      <td>1199999.00</td>\n",
       "      <td>64.00</td>\n",
       "      <td>1.00</td>\n",
       "      <td>149997.00</td>\n",
       "      <td>3.00</td>\n",
       "      <td>4.00</td>\n",
       "      <td>3.00</td>\n",
       "      <td>3.00</td>\n",
       "      <td>58.98</td>\n",
       "      <td>2.00</td>\n",
       "      <td>...</td>\n",
       "      <td>9.00</td>\n",
       "      <td>19.00</td>\n",
       "      <td>849.00</td>\n",
       "      <td>9.00</td>\n",
       "      <td>2024-08-15 15:21:39.287115</td>\n",
       "      <td>3.00</td>\n",
       "      <td>1.00</td>\n",
       "      <td>3.00</td>\n",
       "      <td>2.00</td>\n",
       "      <td>4999.00</td>\n",
       "    </tr>\n",
       "    <tr>\n",
       "      <th>std</th>\n",
       "      <td>346410.31</td>\n",
       "      <td>13.43</td>\n",
       "      <td>0.50</td>\n",
       "      <td>31615.60</td>\n",
       "      <td>0.85</td>\n",
       "      <td>1.35</td>\n",
       "      <td>1.12</td>\n",
       "      <td>1.14</td>\n",
       "      <td>11.82</td>\n",
       "      <td>0.82</td>\n",
       "      <td>...</td>\n",
       "      <td>0.82</td>\n",
       "      <td>5.78</td>\n",
       "      <td>141.10</td>\n",
       "      <td>2.59</td>\n",
       "      <td>NaN</td>\n",
       "      <td>0.93</td>\n",
       "      <td>0.50</td>\n",
       "      <td>1.12</td>\n",
       "      <td>0.82</td>\n",
       "      <td>865.00</td>\n",
       "    </tr>\n",
       "  </tbody>\n",
       "</table>\n",
       "<p>8 rows × 21 columns</p>\n",
       "</div>"
      ],
      "text/plain": [
       "              id        Age     Gender  Annual Income  Marital Status  \\\n",
       "count 1200000.00 1200000.00 1200000.00     1200000.00      1200000.00   \n",
       "mean   599999.50      41.14       0.50       32414.31            1.03   \n",
       "min         0.00      18.00       0.00           1.00            0.00   \n",
       "25%    299999.75      30.00       0.00        8646.00            0.00   \n",
       "50%    599999.50      41.00       1.00       23911.00            1.00   \n",
       "75%    899999.25      53.00       1.00       43936.00            2.00   \n",
       "max   1199999.00      64.00       1.00      149997.00            3.00   \n",
       "std    346410.31      13.43       0.50       31615.60            0.85   \n",
       "\n",
       "       Number of Dependents  Education Level  Occupation  Health Score  \\\n",
       "count            1200000.00       1200000.00  1200000.00    1200000.00   \n",
       "mean                   2.01             1.51        1.59         25.55   \n",
       "min                    0.00             0.00        0.00          2.01   \n",
       "25%                    1.00             0.00        1.00         16.55   \n",
       "50%                    2.00             2.00        2.00         24.58   \n",
       "75%                    3.00             3.00        3.00         33.77   \n",
       "max                    4.00             3.00        3.00         58.98   \n",
       "std                    1.35             1.12        1.14         11.82   \n",
       "\n",
       "        Location  ...  Previous Claims  Vehicle Age  Credit Score  \\\n",
       "count 1200000.00  ...       1200000.00   1200000.00    1200000.00   \n",
       "mean        1.00  ...             1.00         9.57        593.16   \n",
       "min         0.00  ...             0.00         0.00        300.00   \n",
       "25%         0.00  ...             0.00         5.00        484.00   \n",
       "50%         1.00  ...             1.00        10.00        595.00   \n",
       "75%         2.00  ...             1.00        15.00        706.00   \n",
       "max         2.00  ...             9.00        19.00        849.00   \n",
       "std         0.82  ...             0.82         5.78        141.10   \n",
       "\n",
       "       Insurance Duration              Policy Start Date Customer Feedback  \\\n",
       "count          1200000.00                        1200000        1200000.00   \n",
       "mean                 5.02  2022-02-13 05:06:30.972380416              1.13   \n",
       "min                  1.00     2019-08-17 15:21:39.080371              0.00   \n",
       "25%                  3.00  2020-11-20 15:21:39.121168896              0.00   \n",
       "50%                  5.00  2022-02-14 15:21:39.151731968              1.00   \n",
       "75%                  7.00  2023-05-06 15:21:39.182597120              2.00   \n",
       "max                  9.00     2024-08-15 15:21:39.287115              3.00   \n",
       "std                  2.59                            NaN              0.93   \n",
       "\n",
       "       Smoking Status  Exercise Frequency  Property Type  Premium Amount  \n",
       "count      1200000.00          1200000.00     1200000.00      1200000.00  \n",
       "mean             0.50                1.51           1.00         1102.54  \n",
       "min              0.00                0.00           0.00           20.00  \n",
       "25%              0.00                1.00           0.00          514.00  \n",
       "50%              1.00                2.00           1.00          872.00  \n",
       "75%              1.00                3.00           2.00         1509.00  \n",
       "max              1.00                3.00           2.00         4999.00  \n",
       "std              0.50                1.12           0.82          865.00  \n",
       "\n",
       "[8 rows x 21 columns]"
      ]
     },
     "execution_count": 17,
     "metadata": {},
     "output_type": "execute_result"
    }
   ],
   "source": [
    "train_data.describe()"
   ]
  },
  {
   "cell_type": "code",
   "execution_count": 18,
   "id": "e3134860",
   "metadata": {
    "execution": {
     "iopub.execute_input": "2025-03-27T08:01:11.206942Z",
     "iopub.status.busy": "2025-03-27T08:01:11.206552Z",
     "iopub.status.idle": "2025-03-27T08:01:11.261839Z",
     "shell.execute_reply": "2025-03-27T08:01:11.260645Z"
    },
    "papermill": {
     "duration": 0.06613,
     "end_time": "2025-03-27T08:01:11.263767",
     "exception": false,
     "start_time": "2025-03-27T08:01:11.197637",
     "status": "completed"
    },
    "tags": []
   },
   "outputs": [],
   "source": [
    "train_data['Policy Age'] = (pd.to_datetime('31-08-2024', format='%d-%m-%Y') - train_data['Policy Start Date']).dt.days"
   ]
  },
  {
   "cell_type": "code",
   "execution_count": 19,
   "id": "a15826d1",
   "metadata": {
    "execution": {
     "iopub.execute_input": "2025-03-27T08:01:11.281362Z",
     "iopub.status.busy": "2025-03-27T08:01:11.280792Z",
     "iopub.status.idle": "2025-03-27T08:01:11.433182Z",
     "shell.execute_reply": "2025-03-27T08:01:11.431932Z"
    },
    "papermill": {
     "duration": 0.163552,
     "end_time": "2025-03-27T08:01:11.435359",
     "exception": false,
     "start_time": "2025-03-27T08:01:11.271807",
     "status": "completed"
    },
    "tags": []
   },
   "outputs": [],
   "source": [
    "train_data.drop('Policy Start Date', inplace=True, axis=1)"
   ]
  },
  {
   "cell_type": "code",
   "execution_count": 20,
   "id": "9b7c9746",
   "metadata": {
    "execution": {
     "iopub.execute_input": "2025-03-27T08:01:11.453037Z",
     "iopub.status.busy": "2025-03-27T08:01:11.452606Z",
     "iopub.status.idle": "2025-03-27T08:01:12.553173Z",
     "shell.execute_reply": "2025-03-27T08:01:12.552066Z"
    },
    "papermill": {
     "duration": 1.112459,
     "end_time": "2025-03-27T08:01:12.555890",
     "exception": false,
     "start_time": "2025-03-27T08:01:11.443431",
     "status": "completed"
    },
    "tags": []
   },
   "outputs": [
    {
     "data": {
      "text/html": [
       "<div>\n",
       "<style scoped>\n",
       "    .dataframe tbody tr th:only-of-type {\n",
       "        vertical-align: middle;\n",
       "    }\n",
       "\n",
       "    .dataframe tbody tr th {\n",
       "        vertical-align: top;\n",
       "    }\n",
       "\n",
       "    .dataframe thead th {\n",
       "        text-align: right;\n",
       "    }\n",
       "</style>\n",
       "<table border=\"1\" class=\"dataframe\">\n",
       "  <thead>\n",
       "    <tr style=\"text-align: right;\">\n",
       "      <th></th>\n",
       "      <th>id</th>\n",
       "      <th>Age</th>\n",
       "      <th>Gender</th>\n",
       "      <th>Annual Income</th>\n",
       "      <th>Marital Status</th>\n",
       "      <th>Number of Dependents</th>\n",
       "      <th>Education Level</th>\n",
       "      <th>Occupation</th>\n",
       "      <th>Health Score</th>\n",
       "      <th>Location</th>\n",
       "      <th>...</th>\n",
       "      <th>Previous Claims</th>\n",
       "      <th>Vehicle Age</th>\n",
       "      <th>Credit Score</th>\n",
       "      <th>Insurance Duration</th>\n",
       "      <th>Customer Feedback</th>\n",
       "      <th>Smoking Status</th>\n",
       "      <th>Exercise Frequency</th>\n",
       "      <th>Property Type</th>\n",
       "      <th>Premium Amount</th>\n",
       "      <th>Policy Age</th>\n",
       "    </tr>\n",
       "  </thead>\n",
       "  <tbody>\n",
       "    <tr>\n",
       "      <th>count</th>\n",
       "      <td>1200000.00</td>\n",
       "      <td>1200000.00</td>\n",
       "      <td>1200000.00</td>\n",
       "      <td>1200000.00</td>\n",
       "      <td>1200000.00</td>\n",
       "      <td>1200000.00</td>\n",
       "      <td>1200000.00</td>\n",
       "      <td>1200000.00</td>\n",
       "      <td>1200000.00</td>\n",
       "      <td>1200000.00</td>\n",
       "      <td>...</td>\n",
       "      <td>1200000.00</td>\n",
       "      <td>1200000.00</td>\n",
       "      <td>1200000.00</td>\n",
       "      <td>1200000.00</td>\n",
       "      <td>1200000.00</td>\n",
       "      <td>1200000.00</td>\n",
       "      <td>1200000.00</td>\n",
       "      <td>1200000.00</td>\n",
       "      <td>1200000.00</td>\n",
       "      <td>1200000.00</td>\n",
       "    </tr>\n",
       "    <tr>\n",
       "      <th>mean</th>\n",
       "      <td>599999.50</td>\n",
       "      <td>41.14</td>\n",
       "      <td>0.50</td>\n",
       "      <td>32414.31</td>\n",
       "      <td>1.03</td>\n",
       "      <td>2.01</td>\n",
       "      <td>1.51</td>\n",
       "      <td>1.59</td>\n",
       "      <td>25.55</td>\n",
       "      <td>1.00</td>\n",
       "      <td>...</td>\n",
       "      <td>1.00</td>\n",
       "      <td>9.57</td>\n",
       "      <td>593.16</td>\n",
       "      <td>5.02</td>\n",
       "      <td>1.13</td>\n",
       "      <td>0.50</td>\n",
       "      <td>1.51</td>\n",
       "      <td>1.00</td>\n",
       "      <td>1102.54</td>\n",
       "      <td>929.43</td>\n",
       "    </tr>\n",
       "    <tr>\n",
       "      <th>std</th>\n",
       "      <td>346410.31</td>\n",
       "      <td>13.43</td>\n",
       "      <td>0.50</td>\n",
       "      <td>31615.60</td>\n",
       "      <td>0.85</td>\n",
       "      <td>1.35</td>\n",
       "      <td>1.12</td>\n",
       "      <td>1.14</td>\n",
       "      <td>11.82</td>\n",
       "      <td>0.82</td>\n",
       "      <td>...</td>\n",
       "      <td>0.82</td>\n",
       "      <td>5.78</td>\n",
       "      <td>141.10</td>\n",
       "      <td>2.59</td>\n",
       "      <td>0.93</td>\n",
       "      <td>0.50</td>\n",
       "      <td>1.12</td>\n",
       "      <td>0.82</td>\n",
       "      <td>865.00</td>\n",
       "      <td>521.44</td>\n",
       "    </tr>\n",
       "    <tr>\n",
       "      <th>min</th>\n",
       "      <td>0.00</td>\n",
       "      <td>18.00</td>\n",
       "      <td>0.00</td>\n",
       "      <td>1.00</td>\n",
       "      <td>0.00</td>\n",
       "      <td>0.00</td>\n",
       "      <td>0.00</td>\n",
       "      <td>0.00</td>\n",
       "      <td>2.01</td>\n",
       "      <td>0.00</td>\n",
       "      <td>...</td>\n",
       "      <td>0.00</td>\n",
       "      <td>0.00</td>\n",
       "      <td>300.00</td>\n",
       "      <td>1.00</td>\n",
       "      <td>0.00</td>\n",
       "      <td>0.00</td>\n",
       "      <td>0.00</td>\n",
       "      <td>0.00</td>\n",
       "      <td>20.00</td>\n",
       "      <td>15.00</td>\n",
       "    </tr>\n",
       "    <tr>\n",
       "      <th>25%</th>\n",
       "      <td>299999.75</td>\n",
       "      <td>30.00</td>\n",
       "      <td>0.00</td>\n",
       "      <td>8646.00</td>\n",
       "      <td>0.00</td>\n",
       "      <td>1.00</td>\n",
       "      <td>0.00</td>\n",
       "      <td>1.00</td>\n",
       "      <td>16.55</td>\n",
       "      <td>0.00</td>\n",
       "      <td>...</td>\n",
       "      <td>0.00</td>\n",
       "      <td>5.00</td>\n",
       "      <td>484.00</td>\n",
       "      <td>3.00</td>\n",
       "      <td>0.00</td>\n",
       "      <td>0.00</td>\n",
       "      <td>1.00</td>\n",
       "      <td>0.00</td>\n",
       "      <td>514.00</td>\n",
       "      <td>482.00</td>\n",
       "    </tr>\n",
       "    <tr>\n",
       "      <th>50%</th>\n",
       "      <td>599999.50</td>\n",
       "      <td>41.00</td>\n",
       "      <td>1.00</td>\n",
       "      <td>23911.00</td>\n",
       "      <td>1.00</td>\n",
       "      <td>2.00</td>\n",
       "      <td>2.00</td>\n",
       "      <td>2.00</td>\n",
       "      <td>24.58</td>\n",
       "      <td>1.00</td>\n",
       "      <td>...</td>\n",
       "      <td>1.00</td>\n",
       "      <td>10.00</td>\n",
       "      <td>595.00</td>\n",
       "      <td>5.00</td>\n",
       "      <td>1.00</td>\n",
       "      <td>1.00</td>\n",
       "      <td>2.00</td>\n",
       "      <td>1.00</td>\n",
       "      <td>872.00</td>\n",
       "      <td>928.00</td>\n",
       "    </tr>\n",
       "    <tr>\n",
       "      <th>75%</th>\n",
       "      <td>899999.25</td>\n",
       "      <td>53.00</td>\n",
       "      <td>1.00</td>\n",
       "      <td>43936.00</td>\n",
       "      <td>2.00</td>\n",
       "      <td>3.00</td>\n",
       "      <td>3.00</td>\n",
       "      <td>3.00</td>\n",
       "      <td>33.77</td>\n",
       "      <td>2.00</td>\n",
       "      <td>...</td>\n",
       "      <td>1.00</td>\n",
       "      <td>15.00</td>\n",
       "      <td>706.00</td>\n",
       "      <td>7.00</td>\n",
       "      <td>2.00</td>\n",
       "      <td>1.00</td>\n",
       "      <td>3.00</td>\n",
       "      <td>2.00</td>\n",
       "      <td>1509.00</td>\n",
       "      <td>1379.00</td>\n",
       "    </tr>\n",
       "    <tr>\n",
       "      <th>max</th>\n",
       "      <td>1199999.00</td>\n",
       "      <td>64.00</td>\n",
       "      <td>1.00</td>\n",
       "      <td>149997.00</td>\n",
       "      <td>3.00</td>\n",
       "      <td>4.00</td>\n",
       "      <td>3.00</td>\n",
       "      <td>3.00</td>\n",
       "      <td>58.98</td>\n",
       "      <td>2.00</td>\n",
       "      <td>...</td>\n",
       "      <td>9.00</td>\n",
       "      <td>19.00</td>\n",
       "      <td>849.00</td>\n",
       "      <td>9.00</td>\n",
       "      <td>3.00</td>\n",
       "      <td>1.00</td>\n",
       "      <td>3.00</td>\n",
       "      <td>2.00</td>\n",
       "      <td>4999.00</td>\n",
       "      <td>1840.00</td>\n",
       "    </tr>\n",
       "  </tbody>\n",
       "</table>\n",
       "<p>8 rows × 21 columns</p>\n",
       "</div>"
      ],
      "text/plain": [
       "              id        Age     Gender  Annual Income  Marital Status  \\\n",
       "count 1200000.00 1200000.00 1200000.00     1200000.00      1200000.00   \n",
       "mean   599999.50      41.14       0.50       32414.31            1.03   \n",
       "std    346410.31      13.43       0.50       31615.60            0.85   \n",
       "min         0.00      18.00       0.00           1.00            0.00   \n",
       "25%    299999.75      30.00       0.00        8646.00            0.00   \n",
       "50%    599999.50      41.00       1.00       23911.00            1.00   \n",
       "75%    899999.25      53.00       1.00       43936.00            2.00   \n",
       "max   1199999.00      64.00       1.00      149997.00            3.00   \n",
       "\n",
       "       Number of Dependents  Education Level  Occupation  Health Score  \\\n",
       "count            1200000.00       1200000.00  1200000.00    1200000.00   \n",
       "mean                   2.01             1.51        1.59         25.55   \n",
       "std                    1.35             1.12        1.14         11.82   \n",
       "min                    0.00             0.00        0.00          2.01   \n",
       "25%                    1.00             0.00        1.00         16.55   \n",
       "50%                    2.00             2.00        2.00         24.58   \n",
       "75%                    3.00             3.00        3.00         33.77   \n",
       "max                    4.00             3.00        3.00         58.98   \n",
       "\n",
       "        Location  ...  Previous Claims  Vehicle Age  Credit Score  \\\n",
       "count 1200000.00  ...       1200000.00   1200000.00    1200000.00   \n",
       "mean        1.00  ...             1.00         9.57        593.16   \n",
       "std         0.82  ...             0.82         5.78        141.10   \n",
       "min         0.00  ...             0.00         0.00        300.00   \n",
       "25%         0.00  ...             0.00         5.00        484.00   \n",
       "50%         1.00  ...             1.00        10.00        595.00   \n",
       "75%         2.00  ...             1.00        15.00        706.00   \n",
       "max         2.00  ...             9.00        19.00        849.00   \n",
       "\n",
       "       Insurance Duration  Customer Feedback  Smoking Status  \\\n",
       "count          1200000.00         1200000.00      1200000.00   \n",
       "mean                 5.02               1.13            0.50   \n",
       "std                  2.59               0.93            0.50   \n",
       "min                  1.00               0.00            0.00   \n",
       "25%                  3.00               0.00            0.00   \n",
       "50%                  5.00               1.00            1.00   \n",
       "75%                  7.00               2.00            1.00   \n",
       "max                  9.00               3.00            1.00   \n",
       "\n",
       "       Exercise Frequency  Property Type  Premium Amount  Policy Age  \n",
       "count          1200000.00     1200000.00      1200000.00  1200000.00  \n",
       "mean                 1.51           1.00         1102.54      929.43  \n",
       "std                  1.12           0.82          865.00      521.44  \n",
       "min                  0.00           0.00           20.00       15.00  \n",
       "25%                  1.00           0.00          514.00      482.00  \n",
       "50%                  2.00           1.00          872.00      928.00  \n",
       "75%                  3.00           2.00         1509.00     1379.00  \n",
       "max                  3.00           2.00         4999.00     1840.00  \n",
       "\n",
       "[8 rows x 21 columns]"
      ]
     },
     "execution_count": 20,
     "metadata": {},
     "output_type": "execute_result"
    }
   ],
   "source": [
    "train_data.describe()"
   ]
  },
  {
   "cell_type": "code",
   "execution_count": 21,
   "id": "8af4ec2f",
   "metadata": {
    "execution": {
     "iopub.execute_input": "2025-03-27T08:01:12.581414Z",
     "iopub.status.busy": "2025-03-27T08:01:12.580994Z",
     "iopub.status.idle": "2025-03-27T08:01:13.176540Z",
     "shell.execute_reply": "2025-03-27T08:01:13.175597Z"
    },
    "papermill": {
     "duration": 0.607214,
     "end_time": "2025-03-27T08:01:13.178572",
     "exception": false,
     "start_time": "2025-03-27T08:01:12.571358",
     "status": "completed"
    },
    "tags": []
   },
   "outputs": [],
   "source": [
    "from sklearn.preprocessing import StandardScaler\n",
    "from sklearn.model_selection import train_test_split\n",
    "from sklearn.ensemble import RandomForestRegressor\n",
    "from sklearn.metrics import mean_squared_error, accuracy_score, r2_score\n",
    "from sklearn.model_selection import RandomizedSearchCV\n"
   ]
  },
  {
   "cell_type": "code",
   "execution_count": 22,
   "id": "5d888c30",
   "metadata": {
    "execution": {
     "iopub.execute_input": "2025-03-27T08:01:13.197147Z",
     "iopub.status.busy": "2025-03-27T08:01:13.196748Z",
     "iopub.status.idle": "2025-03-27T08:01:13.450287Z",
     "shell.execute_reply": "2025-03-27T08:01:13.449128Z"
    },
    "papermill": {
     "duration": 0.264889,
     "end_time": "2025-03-27T08:01:13.452341",
     "exception": false,
     "start_time": "2025-03-27T08:01:13.187452",
     "status": "completed"
    },
    "tags": []
   },
   "outputs": [],
   "source": [
    "df = train_data.copy()\n",
    "\n",
    "df.drop('id', axis=1, inplace=True)"
   ]
  },
  {
   "cell_type": "code",
   "execution_count": 23,
   "id": "b7c91609",
   "metadata": {
    "execution": {
     "iopub.execute_input": "2025-03-27T08:01:13.471859Z",
     "iopub.status.busy": "2025-03-27T08:01:13.471478Z",
     "iopub.status.idle": "2025-03-27T08:01:13.827522Z",
     "shell.execute_reply": "2025-03-27T08:01:13.826467Z"
    },
    "papermill": {
     "duration": 0.368106,
     "end_time": "2025-03-27T08:01:13.829533",
     "exception": false,
     "start_time": "2025-03-27T08:01:13.461427",
     "status": "completed"
    },
    "tags": []
   },
   "outputs": [],
   "source": [
    "df_train, df_test = train_test_split(df, test_size=0.25, random_state=56)\n",
    "y_train = df_train.pop('Premium Amount')\n",
    "X_train = df_train\n",
    "y_test = df_test.pop('Premium Amount')\n",
    "X_test = df_test"
   ]
  },
  {
   "cell_type": "code",
   "execution_count": 24,
   "id": "554f6c99",
   "metadata": {
    "execution": {
     "iopub.execute_input": "2025-03-27T08:01:13.848253Z",
     "iopub.status.busy": "2025-03-27T08:01:13.847873Z",
     "iopub.status.idle": "2025-03-27T08:01:14.314686Z",
     "shell.execute_reply": "2025-03-27T08:01:14.313660Z"
    },
    "papermill": {
     "duration": 0.47836,
     "end_time": "2025-03-27T08:01:14.316599",
     "exception": false,
     "start_time": "2025-03-27T08:01:13.838239",
     "status": "completed"
    },
    "tags": []
   },
   "outputs": [],
   "source": [
    "scaler = StandardScaler()\n",
    "X_train = scaler.fit_transform(X_train)\n",
    "X_test = scaler.transform(X_test)"
   ]
  },
  {
   "cell_type": "code",
   "execution_count": 25,
   "id": "59624e07",
   "metadata": {
    "execution": {
     "iopub.execute_input": "2025-03-27T08:01:14.335865Z",
     "iopub.status.busy": "2025-03-27T08:01:14.335459Z",
     "iopub.status.idle": "2025-03-27T08:01:30.663827Z",
     "shell.execute_reply": "2025-03-27T08:01:30.662694Z"
    },
    "papermill": {
     "duration": 16.34042,
     "end_time": "2025-03-27T08:01:30.665565",
     "exception": false,
     "start_time": "2025-03-27T08:01:14.325145",
     "status": "completed"
    },
    "tags": []
   },
   "outputs": [
    {
     "data": {
      "text/html": [
       "<pre style=\"white-space:pre;overflow-x:auto;line-height:normal;font-family:Menlo,'DejaVu Sans Mono',consolas,'Courier New',monospace\"><span style=\"font-weight: bold\">Model: \"sequential\"</span>\n",
       "</pre>\n"
      ],
      "text/plain": [
       "\u001b[1mModel: \"sequential\"\u001b[0m\n"
      ]
     },
     "metadata": {},
     "output_type": "display_data"
    },
    {
     "data": {
      "text/html": [
       "<pre style=\"white-space:pre;overflow-x:auto;line-height:normal;font-family:Menlo,'DejaVu Sans Mono',consolas,'Courier New',monospace\">┏━━━━━━━━━━━━━━━━━━━━━━━━━━━━━━━━━━━━━━┳━━━━━━━━━━━━━━━━━━━━━━━━━━━━━┳━━━━━━━━━━━━━━━━━┓\n",
       "┃<span style=\"font-weight: bold\"> Layer (type)                         </span>┃<span style=\"font-weight: bold\"> Output Shape                </span>┃<span style=\"font-weight: bold\">         Param # </span>┃\n",
       "┡━━━━━━━━━━━━━━━━━━━━━━━━━━━━━━━━━━━━━━╇━━━━━━━━━━━━━━━━━━━━━━━━━━━━━╇━━━━━━━━━━━━━━━━━┩\n",
       "│ dense (<span style=\"color: #0087ff; text-decoration-color: #0087ff\">Dense</span>)                        │ (<span style=\"color: #00d7ff; text-decoration-color: #00d7ff\">None</span>, <span style=\"color: #00af00; text-decoration-color: #00af00\">2</span>)                   │              <span style=\"color: #00af00; text-decoration-color: #00af00\">40</span> │\n",
       "├──────────────────────────────────────┼─────────────────────────────┼─────────────────┤\n",
       "│ dense_1 (<span style=\"color: #0087ff; text-decoration-color: #0087ff\">Dense</span>)                      │ (<span style=\"color: #00d7ff; text-decoration-color: #00d7ff\">None</span>, <span style=\"color: #00af00; text-decoration-color: #00af00\">1</span>)                   │               <span style=\"color: #00af00; text-decoration-color: #00af00\">3</span> │\n",
       "└──────────────────────────────────────┴─────────────────────────────┴─────────────────┘\n",
       "</pre>\n"
      ],
      "text/plain": [
       "┏━━━━━━━━━━━━━━━━━━━━━━━━━━━━━━━━━━━━━━┳━━━━━━━━━━━━━━━━━━━━━━━━━━━━━┳━━━━━━━━━━━━━━━━━┓\n",
       "┃\u001b[1m \u001b[0m\u001b[1mLayer (type)                        \u001b[0m\u001b[1m \u001b[0m┃\u001b[1m \u001b[0m\u001b[1mOutput Shape               \u001b[0m\u001b[1m \u001b[0m┃\u001b[1m \u001b[0m\u001b[1m        Param #\u001b[0m\u001b[1m \u001b[0m┃\n",
       "┡━━━━━━━━━━━━━━━━━━━━━━━━━━━━━━━━━━━━━━╇━━━━━━━━━━━━━━━━━━━━━━━━━━━━━╇━━━━━━━━━━━━━━━━━┩\n",
       "│ dense (\u001b[38;5;33mDense\u001b[0m)                        │ (\u001b[38;5;45mNone\u001b[0m, \u001b[38;5;34m2\u001b[0m)                   │              \u001b[38;5;34m40\u001b[0m │\n",
       "├──────────────────────────────────────┼─────────────────────────────┼─────────────────┤\n",
       "│ dense_1 (\u001b[38;5;33mDense\u001b[0m)                      │ (\u001b[38;5;45mNone\u001b[0m, \u001b[38;5;34m1\u001b[0m)                   │               \u001b[38;5;34m3\u001b[0m │\n",
       "└──────────────────────────────────────┴─────────────────────────────┴─────────────────┘\n"
      ]
     },
     "metadata": {},
     "output_type": "display_data"
    },
    {
     "data": {
      "text/html": [
       "<pre style=\"white-space:pre;overflow-x:auto;line-height:normal;font-family:Menlo,'DejaVu Sans Mono',consolas,'Courier New',monospace\"><span style=\"font-weight: bold\"> Total params: </span><span style=\"color: #00af00; text-decoration-color: #00af00\">43</span> (172.00 B)\n",
       "</pre>\n"
      ],
      "text/plain": [
       "\u001b[1m Total params: \u001b[0m\u001b[38;5;34m43\u001b[0m (172.00 B)\n"
      ]
     },
     "metadata": {},
     "output_type": "display_data"
    },
    {
     "data": {
      "text/html": [
       "<pre style=\"white-space:pre;overflow-x:auto;line-height:normal;font-family:Menlo,'DejaVu Sans Mono',consolas,'Courier New',monospace\"><span style=\"font-weight: bold\"> Trainable params: </span><span style=\"color: #00af00; text-decoration-color: #00af00\">43</span> (172.00 B)\n",
       "</pre>\n"
      ],
      "text/plain": [
       "\u001b[1m Trainable params: \u001b[0m\u001b[38;5;34m43\u001b[0m (172.00 B)\n"
      ]
     },
     "metadata": {},
     "output_type": "display_data"
    },
    {
     "data": {
      "text/html": [
       "<pre style=\"white-space:pre;overflow-x:auto;line-height:normal;font-family:Menlo,'DejaVu Sans Mono',consolas,'Courier New',monospace\"><span style=\"font-weight: bold\"> Non-trainable params: </span><span style=\"color: #00af00; text-decoration-color: #00af00\">0</span> (0.00 B)\n",
       "</pre>\n"
      ],
      "text/plain": [
       "\u001b[1m Non-trainable params: \u001b[0m\u001b[38;5;34m0\u001b[0m (0.00 B)\n"
      ]
     },
     "metadata": {},
     "output_type": "display_data"
    }
   ],
   "source": [
    "import tensorflow\n",
    "from tensorflow import keras\n",
    "\n",
    "model = keras.Sequential()\n",
    "model.add(keras.layers.Input(shape=(X_train.shape[-1],)))\n",
    "model.add(keras.layers.Dense(2, activation=\"sigmoid\"))\n",
    "model.add(keras.layers.Dense(1, activation=\"linear\"))\n",
    "model.summary()"
   ]
  },
  {
   "cell_type": "code",
   "execution_count": 26,
   "id": "4347ae74",
   "metadata": {
    "execution": {
     "iopub.execute_input": "2025-03-27T08:01:30.688147Z",
     "iopub.status.busy": "2025-03-27T08:01:30.687446Z",
     "iopub.status.idle": "2025-03-27T08:01:30.702591Z",
     "shell.execute_reply": "2025-03-27T08:01:30.701119Z"
    },
    "papermill": {
     "duration": 0.029435,
     "end_time": "2025-03-27T08:01:30.705504",
     "exception": false,
     "start_time": "2025-03-27T08:01:30.676069",
     "status": "completed"
    },
    "tags": []
   },
   "outputs": [],
   "source": [
    "model.compile(optimizer=keras.optimizers.SGD(), loss=\"mean_squared_error\")"
   ]
  },
  {
   "cell_type": "code",
   "execution_count": 27,
   "id": "8c362d2c",
   "metadata": {
    "execution": {
     "iopub.execute_input": "2025-03-27T08:01:30.726584Z",
     "iopub.status.busy": "2025-03-27T08:01:30.726212Z",
     "iopub.status.idle": "2025-03-27T08:06:50.353482Z",
     "shell.execute_reply": "2025-03-27T08:06:50.352106Z"
    },
    "papermill": {
     "duration": 319.639688,
     "end_time": "2025-03-27T08:06:50.355400",
     "exception": false,
     "start_time": "2025-03-27T08:01:30.715712",
     "status": "completed"
    },
    "tags": []
   },
   "outputs": [
    {
     "name": "stdout",
     "output_type": "stream",
     "text": [
      "Epoch 1/10\n",
      "\u001b[1m28125/28125\u001b[0m \u001b[32m━━━━━━━━━━━━━━━━━━━━\u001b[0m\u001b[37m\u001b[0m \u001b[1m33s\u001b[0m 1ms/step - loss: 757052.4375\n",
      "Epoch 2/10\n",
      "\u001b[1m28125/28125\u001b[0m \u001b[32m━━━━━━━━━━━━━━━━━━━━\u001b[0m\u001b[37m\u001b[0m \u001b[1m33s\u001b[0m 1ms/step - loss: 748949.8750\n",
      "Epoch 3/10\n",
      "\u001b[1m28125/28125\u001b[0m \u001b[32m━━━━━━━━━━━━━━━━━━━━\u001b[0m\u001b[37m\u001b[0m \u001b[1m32s\u001b[0m 1ms/step - loss: 749611.4375\n",
      "Epoch 4/10\n",
      "\u001b[1m28125/28125\u001b[0m \u001b[32m━━━━━━━━━━━━━━━━━━━━\u001b[0m\u001b[37m\u001b[0m \u001b[1m32s\u001b[0m 1ms/step - loss: 749866.1875\n",
      "Epoch 5/10\n",
      "\u001b[1m28125/28125\u001b[0m \u001b[32m━━━━━━━━━━━━━━━━━━━━\u001b[0m\u001b[37m\u001b[0m \u001b[1m31s\u001b[0m 1ms/step - loss: 750823.7500\n",
      "Epoch 6/10\n",
      "\u001b[1m28125/28125\u001b[0m \u001b[32m━━━━━━━━━━━━━━━━━━━━\u001b[0m\u001b[37m\u001b[0m \u001b[1m33s\u001b[0m 1ms/step - loss: 750194.3125\n",
      "Epoch 7/10\n",
      "\u001b[1m28125/28125\u001b[0m \u001b[32m━━━━━━━━━━━━━━━━━━━━\u001b[0m\u001b[37m\u001b[0m \u001b[1m32s\u001b[0m 1ms/step - loss: 750522.1250\n",
      "Epoch 8/10\n",
      "\u001b[1m28125/28125\u001b[0m \u001b[32m━━━━━━━━━━━━━━━━━━━━\u001b[0m\u001b[37m\u001b[0m \u001b[1m32s\u001b[0m 1ms/step - loss: 746341.8125\n",
      "Epoch 9/10\n",
      "\u001b[1m28125/28125\u001b[0m \u001b[32m━━━━━━━━━━━━━━━━━━━━\u001b[0m\u001b[37m\u001b[0m \u001b[1m31s\u001b[0m 1ms/step - loss: 748357.3750\n",
      "Epoch 10/10\n",
      "\u001b[1m28125/28125\u001b[0m \u001b[32m━━━━━━━━━━━━━━━━━━━━\u001b[0m\u001b[37m\u001b[0m \u001b[1m32s\u001b[0m 1ms/step - loss: 749247.1250\n"
     ]
    },
    {
     "data": {
      "text/plain": [
       "<keras.src.callbacks.history.History at 0x7faa51dec8e0>"
      ]
     },
     "execution_count": 27,
     "metadata": {},
     "output_type": "execute_result"
    }
   ],
   "source": [
    "model.fit(X_train,y_train.values,epochs=10,batch_size=32)"
   ]
  },
  {
   "cell_type": "code",
   "execution_count": 28,
   "id": "47155fc2",
   "metadata": {
    "execution": {
     "iopub.execute_input": "2025-03-27T08:06:51.103492Z",
     "iopub.status.busy": "2025-03-27T08:06:51.102900Z",
     "iopub.status.idle": "2025-03-27T08:07:05.197996Z",
     "shell.execute_reply": "2025-03-27T08:07:05.196812Z"
    },
    "papermill": {
     "duration": 14.473489,
     "end_time": "2025-03-27T08:07:05.200022",
     "exception": false,
     "start_time": "2025-03-27T08:06:50.726533",
     "status": "completed"
    },
    "tags": []
   },
   "outputs": [
    {
     "name": "stdout",
     "output_type": "stream",
     "text": [
      "\u001b[1m9375/9375\u001b[0m \u001b[32m━━━━━━━━━━━━━━━━━━━━\u001b[0m\u001b[37m\u001b[0m \u001b[1m10s\u001b[0m 1ms/step\n"
     ]
    }
   ],
   "source": [
    "y_pred = model.predict(X_test)[:,0]"
   ]
  },
  {
   "cell_type": "code",
   "execution_count": 29,
   "id": "b2870ae9",
   "metadata": {
    "execution": {
     "iopub.execute_input": "2025-03-27T08:07:06.022389Z",
     "iopub.status.busy": "2025-03-27T08:07:06.021991Z",
     "iopub.status.idle": "2025-03-27T08:07:06.031509Z",
     "shell.execute_reply": "2025-03-27T08:07:06.030446Z"
    },
    "papermill": {
     "duration": 0.387545,
     "end_time": "2025-03-27T08:07:06.033358",
     "exception": false,
     "start_time": "2025-03-27T08:07:05.645813",
     "status": "completed"
    },
    "tags": []
   },
   "outputs": [
    {
     "data": {
      "text/plain": [
       "744388.0069842698"
      ]
     },
     "execution_count": 29,
     "metadata": {},
     "output_type": "execute_result"
    }
   ],
   "source": [
    "mean_squared_error(y_test, y_pred)"
   ]
  },
  {
   "cell_type": "code",
   "execution_count": 30,
   "id": "ea94dccc",
   "metadata": {
    "execution": {
     "iopub.execute_input": "2025-03-27T08:07:06.784593Z",
     "iopub.status.busy": "2025-03-27T08:07:06.784252Z",
     "iopub.status.idle": "2025-03-27T08:07:06.799456Z",
     "shell.execute_reply": "2025-03-27T08:07:06.798421Z"
    },
    "papermill": {
     "duration": 0.394428,
     "end_time": "2025-03-27T08:07:06.801380",
     "exception": false,
     "start_time": "2025-03-27T08:07:06.406952",
     "status": "completed"
    },
    "tags": []
   },
   "outputs": [
    {
     "data": {
      "text/plain": [
       "0.0015381471331926688"
      ]
     },
     "execution_count": 30,
     "metadata": {},
     "output_type": "execute_result"
    }
   ],
   "source": [
    "r2_score(y_test, y_pred)"
   ]
  },
  {
   "cell_type": "code",
   "execution_count": null,
   "id": "2048ef68",
   "metadata": {
    "papermill": {
     "duration": 0.371085,
     "end_time": "2025-03-27T08:07:07.615079",
     "exception": false,
     "start_time": "2025-03-27T08:07:07.243994",
     "status": "completed"
    },
    "tags": []
   },
   "outputs": [],
   "source": []
  },
  {
   "cell_type": "code",
   "execution_count": 31,
   "id": "905d8acd",
   "metadata": {
    "execution": {
     "iopub.execute_input": "2025-03-27T08:07:08.364123Z",
     "iopub.status.busy": "2025-03-27T08:07:08.363767Z",
     "iopub.status.idle": "2025-03-27T08:07:08.482302Z",
     "shell.execute_reply": "2025-03-27T08:07:08.481115Z"
    },
    "papermill": {
     "duration": 0.496347,
     "end_time": "2025-03-27T08:07:08.484307",
     "exception": false,
     "start_time": "2025-03-27T08:07:07.987960",
     "status": "completed"
    },
    "tags": []
   },
   "outputs": [],
   "source": [
    "test_df = test_data.copy()"
   ]
  },
  {
   "cell_type": "code",
   "execution_count": 32,
   "id": "140e1388",
   "metadata": {
    "execution": {
     "iopub.execute_input": "2025-03-27T08:07:09.293690Z",
     "iopub.status.busy": "2025-03-27T08:07:09.293336Z",
     "iopub.status.idle": "2025-03-27T08:07:11.219606Z",
     "shell.execute_reply": "2025-03-27T08:07:11.218469Z"
    },
    "papermill": {
     "duration": 2.362137,
     "end_time": "2025-03-27T08:07:11.221862",
     "exception": false,
     "start_time": "2025-03-27T08:07:08.859725",
     "status": "completed"
    },
    "tags": []
   },
   "outputs": [],
   "source": [
    "# treat the test data\n",
    "\n",
    "test_data['Age'] = test_data['Age'].fillna(test_data['Age'].median())\n",
    "test_data['Annual Income'] = test_data['Annual Income'].fillna(test_data['Annual Income'].median())\n",
    "test_data['Number of Dependents'] = test_data['Number of Dependents'].fillna(test_data['Number of Dependents'].median())\n",
    "test_data['Health Score'] = test_data['Health Score'].fillna(test_data['Health Score'].median())\n",
    "test_data['Previous Claims'] = test_data['Previous Claims'].fillna(test_data['Previous Claims'].median())\n",
    "test_data['Vehicle Age'] = test_data['Vehicle Age'].fillna(test_data['Vehicle Age'].median())\n",
    "test_data['Credit Score'] = test_data['Credit Score'].fillna(test_data['Credit Score'].median())\n",
    "test_data['Insurance Duration'] = test_data['Insurance Duration'].fillna(test_data['Insurance Duration'].median())\n",
    "\n",
    "le = LabelEncoder()\n",
    "for col in obj_cols:\n",
    "    test_data[col] = le.fit_transform(test_data[col])\n",
    "\n"
   ]
  },
  {
   "cell_type": "code",
   "execution_count": 33,
   "id": "aa4cc95d",
   "metadata": {
    "execution": {
     "iopub.execute_input": "2025-03-27T08:07:11.971365Z",
     "iopub.status.busy": "2025-03-27T08:07:11.971018Z",
     "iopub.status.idle": "2025-03-27T08:07:12.598966Z",
     "shell.execute_reply": "2025-03-27T08:07:12.597885Z"
    },
    "papermill": {
     "duration": 1.006623,
     "end_time": "2025-03-27T08:07:12.600871",
     "exception": false,
     "start_time": "2025-03-27T08:07:11.594248",
     "status": "completed"
    },
    "tags": []
   },
   "outputs": [],
   "source": [
    "test_data['Policy Start Date'] = test_data['Policy Start Date'].astype('datetime64[ns]')\n",
    "test_data['Policy Age'] = (pd.to_datetime('31-08-2024', format='%d-%m-%Y') - test_data['Policy Start Date']).dt.days\n",
    "test_data.drop('Policy Start Date', inplace=True, axis=1)\n",
    "\n",
    "test_data.drop('id', axis=1, inplace=True)"
   ]
  },
  {
   "cell_type": "code",
   "execution_count": 34,
   "id": "8a341f6c",
   "metadata": {
    "execution": {
     "iopub.execute_input": "2025-03-27T08:07:13.450301Z",
     "iopub.status.busy": "2025-03-27T08:07:13.449669Z",
     "iopub.status.idle": "2025-03-27T08:07:13.605980Z",
     "shell.execute_reply": "2025-03-27T08:07:13.604953Z"
    },
    "papermill": {
     "duration": 0.529327,
     "end_time": "2025-03-27T08:07:13.607913",
     "exception": false,
     "start_time": "2025-03-27T08:07:13.078586",
     "status": "completed"
    },
    "tags": []
   },
   "outputs": [],
   "source": [
    "scaled_pred_data = scaler.transform(test_data)"
   ]
  },
  {
   "cell_type": "code",
   "execution_count": 35,
   "id": "7c33680f",
   "metadata": {
    "execution": {
     "iopub.execute_input": "2025-03-27T08:07:14.346451Z",
     "iopub.status.busy": "2025-03-27T08:07:14.346099Z",
     "iopub.status.idle": "2025-03-27T08:07:53.080888Z",
     "shell.execute_reply": "2025-03-27T08:07:53.079616Z"
    },
    "papermill": {
     "duration": 39.105221,
     "end_time": "2025-03-27T08:07:53.082953",
     "exception": false,
     "start_time": "2025-03-27T08:07:13.977732",
     "status": "completed"
    },
    "tags": []
   },
   "outputs": [
    {
     "name": "stdout",
     "output_type": "stream",
     "text": [
      "\u001b[1m25000/25000\u001b[0m \u001b[32m━━━━━━━━━━━━━━━━━━━━\u001b[0m\u001b[37m\u001b[0m \u001b[1m27s\u001b[0m 1ms/step\n"
     ]
    }
   ],
   "source": [
    "pred_results = model.predict(test_data)[:,0]"
   ]
  },
  {
   "cell_type": "code",
   "execution_count": 36,
   "id": "752bcaef",
   "metadata": {
    "execution": {
     "iopub.execute_input": "2025-03-27T08:07:53.964663Z",
     "iopub.status.busy": "2025-03-27T08:07:53.964296Z",
     "iopub.status.idle": "2025-03-27T08:07:53.971699Z",
     "shell.execute_reply": "2025-03-27T08:07:53.970764Z"
    },
    "papermill": {
     "duration": 0.415021,
     "end_time": "2025-03-27T08:07:53.973600",
     "exception": false,
     "start_time": "2025-03-27T08:07:53.558579",
     "status": "completed"
    },
    "tags": []
   },
   "outputs": [],
   "source": [
    "results_df = pd.DataFrame({\n",
    "    \"id\": test_df['id'],\n",
    "    \"Premium Amount\": pred_results\n",
    "})"
   ]
  },
  {
   "cell_type": "code",
   "execution_count": 37,
   "id": "4407f21b",
   "metadata": {
    "execution": {
     "iopub.execute_input": "2025-03-27T08:07:54.830294Z",
     "iopub.status.busy": "2025-03-27T08:07:54.829952Z",
     "iopub.status.idle": "2025-03-27T08:07:55.943838Z",
     "shell.execute_reply": "2025-03-27T08:07:55.942608Z"
    },
    "papermill": {
     "duration": 1.574673,
     "end_time": "2025-03-27T08:07:55.945889",
     "exception": false,
     "start_time": "2025-03-27T08:07:54.371216",
     "status": "completed"
    },
    "tags": []
   },
   "outputs": [],
   "source": [
    "results_df.to_csv(\"insurance_premiums_sub.csv\", index=False)"
   ]
  }
 ],
 "metadata": {
  "kaggle": {
   "accelerator": "none",
   "dataSources": [
    {
     "databundleVersionId": 10305135,
     "sourceId": 84896,
     "sourceType": "competition"
    }
   ],
   "dockerImageVersionId": 30918,
   "isGpuEnabled": false,
   "isInternetEnabled": true,
   "language": "python",
   "sourceType": "notebook"
  },
  "kernelspec": {
   "display_name": "Python 3",
   "language": "python",
   "name": "python3"
  },
  "language_info": {
   "codemirror_mode": {
    "name": "ipython",
    "version": 3
   },
   "file_extension": ".py",
   "mimetype": "text/x-python",
   "name": "python",
   "nbconvert_exporter": "python",
   "pygments_lexer": "ipython3",
   "version": "3.10.12"
  },
  "papermill": {
   "default_parameters": {},
   "duration": 432.954427,
   "end_time": "2025-03-27T08:07:58.180226",
   "environment_variables": {},
   "exception": null,
   "input_path": "__notebook__.ipynb",
   "output_path": "__notebook__.ipynb",
   "parameters": {},
   "start_time": "2025-03-27T08:00:45.225799",
   "version": "2.6.0"
  }
 },
 "nbformat": 4,
 "nbformat_minor": 5
}
